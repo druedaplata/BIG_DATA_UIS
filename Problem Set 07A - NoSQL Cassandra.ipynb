{
 "cells": [
  {
   "cell_type": "markdown",
   "metadata": {},
   "source": [
    "# Problem set 07A: NoSQL Cassandra\n",
    "\n",
    "Usaremos el dataset del que se muestra una porción aquí abajo"
   ]
  },
  {
   "cell_type": "code",
   "execution_count": 27,
   "metadata": {
    "collapsed": false
   },
   "outputs": [
    {
     "name": "stdout",
     "output_type": "stream",
     "text": [
      "100,1996,2442\r\n",
      "101,2005,4339\r\n",
      "102,2004,3794\r\n",
      "103,2003,9171\r\n",
      "104,2005,5768\r\n",
      "105,1997,8810\r\n",
      "106,1995,7804\r\n",
      "107,1998,1299\r\n",
      "108,2005,4277\r\n",
      "109,2002,3865\r\n"
     ]
    }
   ],
   "source": [
    "!head -10 data/data.csv"
   ]
  },
  {
   "cell_type": "markdown",
   "metadata": {},
   "source": [
    "Creamos una tabla e importamos los datos"
   ]
  },
  {
   "cell_type": "code",
   "execution_count": 28,
   "metadata": {
    "collapsed": false
   },
   "outputs": [
    {
     "name": "stdout",
     "output_type": "stream",
     "text": [
      "\n",
      "100 rows imported in 0.798 seconds.\n"
     ]
    }
   ],
   "source": [
    "%%script /opt/apache-cassandra-2.1.8/bin/cqlsh\n",
    "use myspace;\n",
    "drop table data;\n",
    "create table data (id int primary key, year int, value int) ;\n",
    "copy data (id, year, value) from 'data/data.csv' ;"
   ]
  },
  {
   "cell_type": "markdown",
   "metadata": {},
   "source": [
    "## Ejercicio 1: realiza los siguientes queries `SELECT` sobre la tabla `data` y explica el comportamiento observado ya que <font style=\"color:red\">algunos queries no te funcionarán</font>\n",
    "\n",
    "- obtener el registro con id=147"
   ]
  },
  {
   "cell_type": "code",
   "execution_count": null,
   "metadata": {
    "collapsed": false
   },
   "outputs": [],
   "source": [
    "%%script /opt/apache-cassandra-2.1.8/bin/cqlsh\n",
    "use myspace;\n",
    "\n",
    "<TU CODIGO AQUI>;"
   ]
  },
  {
   "cell_type": "markdown",
   "metadata": {},
   "source": [
    "- obtener el registro con year=2000 "
   ]
  },
  {
   "cell_type": "code",
   "execution_count": null,
   "metadata": {
    "collapsed": false
   },
   "outputs": [],
   "source": [
    "%%script /opt/apache-cassandra-2.1.8/bin/cqlsh\n",
    "use myspace;\n",
    "\n",
    "<TU CODIGO AQUI>;"
   ]
  },
  {
   "cell_type": "markdown",
   "metadata": {},
   "source": [
    "- obtener todos los registros con id>147"
   ]
  },
  {
   "cell_type": "code",
   "execution_count": null,
   "metadata": {
    "collapsed": false
   },
   "outputs": [],
   "source": [
    "%%script /opt/apache-cassandra-2.1.8/bin/cqlsh\n",
    "use myspace;\n",
    "\n",
    "<TU CODIGO AQUI>;"
   ]
  },
  {
   "cell_type": "markdown",
   "metadata": {},
   "source": [
    "- obtener el registro con value=1728\n"
   ]
  },
  {
   "cell_type": "code",
   "execution_count": null,
   "metadata": {
    "collapsed": false
   },
   "outputs": [],
   "source": [
    "%%script /opt/apache-cassandra-2.1.8/bin/cqlsh\n",
    "use myspace;\n",
    "\n",
    "<TU CODIGO AQUI>;"
   ]
  },
  {
   "cell_type": "markdown",
   "metadata": {},
   "source": [
    "## <font style=\"color: red\">Explica aquí tu interpretación del comportamiento observado\n",
    "\n",
    "== TU EXPLICACIÓN AQUí ==\n"
   ]
  },
  {
   "cell_type": "markdown",
   "metadata": {},
   "source": [
    "## Ejercicio 2: Recrea la tabla con una clave primaria compuesta, ejecuta los siguientes queries y explica el comportamiento observado"
   ]
  },
  {
   "cell_type": "code",
   "execution_count": null,
   "metadata": {
    "collapsed": false
   },
   "outputs": [],
   "source": [
    "%%script /opt/apache-cassandra-2.1.8/bin/cqlsh\n",
    "use myspace;\n",
    "drop table data;\n",
    "create table data (id int, year int, value int, PRIMARY KEY (year, id)) ;\n",
    "copy data (id, year, value) from 'data/data.csv' ;"
   ]
  },
  {
   "cell_type": "markdown",
   "metadata": {},
   "source": [
    "- obtener el registro con id=147"
   ]
  },
  {
   "cell_type": "code",
   "execution_count": null,
   "metadata": {
    "collapsed": false
   },
   "outputs": [],
   "source": [
    "%%script /opt/apache-cassandra-2.1.8/bin/cqlsh\n",
    "use myspace;\n",
    "\n",
    "<TU CODIGO AQUI>;"
   ]
  },
  {
   "cell_type": "markdown",
   "metadata": {},
   "source": [
    "- obtener el registro con year=2000"
   ]
  },
  {
   "cell_type": "code",
   "execution_count": null,
   "metadata": {
    "collapsed": false
   },
   "outputs": [],
   "source": [
    "%%script /opt/apache-cassandra-2.1.8/bin/cqlsh\n",
    "use myspace;\n",
    "\n",
    "<TU CODIGO AQUI>;"
   ]
  },
  {
   "cell_type": "markdown",
   "metadata": {},
   "source": [
    "- obtener todos los registros con year>200\n"
   ]
  },
  {
   "cell_type": "code",
   "execution_count": null,
   "metadata": {
    "collapsed": false
   },
   "outputs": [],
   "source": [
    "%%script /opt/apache-cassandra-2.1.8/bin/cqlsh\n",
    "use myspace;\n",
    "\n",
    "<TU CODIGO AQUI>;"
   ]
  },
  {
   "cell_type": "markdown",
   "metadata": {},
   "source": [
    "- obtener todos los registros con year=2000 e id>120\n"
   ]
  },
  {
   "cell_type": "code",
   "execution_count": null,
   "metadata": {
    "collapsed": false
   },
   "outputs": [],
   "source": [
    "%%script /opt/apache-cassandra-2.1.8/bin/cqlsh\n",
    "use myspace;\n",
    "\n",
    "<TU CODIGO AQUI>;"
   ]
  },
  {
   "cell_type": "markdown",
   "metadata": {},
   "source": [
    "- obtener todos los registros con year=2000 y value>1728"
   ]
  },
  {
   "cell_type": "code",
   "execution_count": null,
   "metadata": {
    "collapsed": false
   },
   "outputs": [],
   "source": [
    "%%script /opt/apache-cassandra-2.1.8/bin/cqlsh\n",
    "use myspace;\n",
    "\n",
    "<TU CODIGO AQUI>;"
   ]
  },
  {
   "cell_type": "markdown",
   "metadata": {},
   "source": [
    "- obtener todos los registros con year=2000 y value=1728"
   ]
  },
  {
   "cell_type": "code",
   "execution_count": null,
   "metadata": {
    "collapsed": false
   },
   "outputs": [],
   "source": [
    "%%script /opt/apache-cassandra-2.1.8/bin/cqlsh\n",
    "use myspace;\n",
    "\n",
    "<TU CODIGO AQUI>;"
   ]
  },
  {
   "cell_type": "markdown",
   "metadata": {},
   "source": [
    "## <font style=\"color: red\">Explica aquí tu interpretación del comportamiento observado\n",
    "\n",
    "== TU EXPLICACIÓN AQUí =="
   ]
  },
  {
   "cell_type": "markdown",
   "metadata": {},
   "source": [
    "## Ejercicio 3: Crea ahora un índice, ejecuta los siguientes queries y explica el comportamiento observado"
   ]
  },
  {
   "cell_type": "code",
   "execution_count": null,
   "metadata": {
    "collapsed": true
   },
   "outputs": [],
   "source": [
    "%%script /opt/apache-cassandra-2.1.8/bin/cqlsh\n",
    "use myspace;\n",
    "\n",
    "<TU CODIGO AQUI>;"
   ]
  },
  {
   "cell_type": "markdown",
   "metadata": {},
   "source": [
    "- obtener el registro con value=1728"
   ]
  },
  {
   "cell_type": "code",
   "execution_count": null,
   "metadata": {
    "collapsed": false
   },
   "outputs": [],
   "source": [
    "%%script /opt/apache-cassandra-2.1.8/bin/cqlsh\n",
    "use myspace;\n",
    "\n",
    "<TU CODIGO AQUI>;"
   ]
  },
  {
   "cell_type": "markdown",
   "metadata": {},
   "source": [
    "- obtener todos los registros con value>1728"
   ]
  },
  {
   "cell_type": "code",
   "execution_count": null,
   "metadata": {
    "collapsed": false
   },
   "outputs": [],
   "source": [
    "%%script /opt/apache-cassandra-2.1.8/bin/cqlsh\n",
    "use myspace;\n",
    "\n",
    "<TU CODIGO AQUI>;"
   ]
  },
  {
   "cell_type": "markdown",
   "metadata": {},
   "source": [
    "- obtener todos los registros con year=2000 y value=1728"
   ]
  },
  {
   "cell_type": "code",
   "execution_count": null,
   "metadata": {
    "collapsed": false
   },
   "outputs": [],
   "source": [
    "%%script /opt/apache-cassandra-2.1.8/bin/cqlsh\n",
    "use myspace;\n",
    "\n",
    "<TU CODIGO AQUI>;"
   ]
  },
  {
   "cell_type": "markdown",
   "metadata": {},
   "source": [
    "## <font style=\"color: red\">Explica aquí tu interpretación del comportamiento observado\n",
    "\n",
    "== TU EXPLICACIÓN AQUí =="
   ]
  }
 ],
 "metadata": {
  "kernelspec": {
   "display_name": "Python 2",
   "language": "python",
   "name": "python2"
  },
  "language_info": {
   "codemirror_mode": {
    "name": "ipython",
    "version": 2
   },
   "file_extension": ".py",
   "mimetype": "text/x-python",
   "name": "python",
   "nbconvert_exporter": "python",
   "pygments_lexer": "ipython2",
   "version": "2.7.9"
  }
 },
 "nbformat": 4,
 "nbformat_minor": 0
}
