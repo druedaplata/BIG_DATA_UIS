{
 "cells": [
  {
   "cell_type": "markdown",
   "metadata": {},
   "source": [
    "## Problem Set 2B - Map-Reduce II"
   ]
  },
  {
   "cell_type": "code",
   "execution_count": 18,
   "metadata": {
    "collapsed": false
   },
   "outputs": [],
   "source": [
    "# imports and formatting ONLY IN NOTEBOOK\n",
    "try:\n",
    "    import book_format, warnings\n",
    "    %config InlineBackend.figure_format = 'svg'\n",
    "    warnings.filterwarnings('ignore'); book_format.load_style()\n",
    "except ImportError:\n",
    "    pass"
   ]
  },
  {
   "cell_type": "markdown",
   "metadata": {},
   "source": [
    "## <font style=\"color: red\"> Esta práctica contiene 3 ejercicios <!-- ONLY IN NOTEBOOK -->"
   ]
  },
  {
   "cell_type": "markdown",
   "metadata": {},
   "source": [
    "### Ejercicio 1: Índice invertido"
   ]
  },
  {
   "cell_type": "markdown",
   "metadata": {},
   "source": [
    "Completa la clase `InvertedIndex` implementando un programa map-reduce que cree un indice invertido para una lista de documentos. Es decir, para cada palabra en nuestra colección de documentos el índice invertido no da en qué documentos aparece. Estos índices se usan posteriormente para responder a queries:\n",
    "\n",
    "\n",
    "_Ejemplo de ejecución_ (entrada es en formato **json**)\n",
    "\n",
    "    [\"001\", \"the car is nice\"]\n",
    "    [\"002\", \"that car is mine\"]\n",
    "    [\"003\", \"that shirt is nice\"]  \n",
    "    [\"004\", \"the car is the best\"]\n",
    "    \n",
    "_Resultado_\n",
    "\n",
    "    \"best\"  [\"004\"]\n",
    "    \"car\"   [\"001\", \"002\", \"004\"]\n",
    "    \"is\"    [\"001\", \"002\", \"003\", \"004\"]\n",
    "    \"mine\"  [\"002\"]\n",
    "    \"nice\"  [\"001\", \"003\"]\n",
    "    \"shirt\" [\"003\"]\n",
    "    \"that\"  [\"002\", \"003\"]\n",
    "    \"the\"   [\"001\", \"004\"]\n",
    "\n",
    "_Nota: usa la linea:_\n",
    "\n",
    "    key, text = json.loads(line)\n",
    "\n",
    "_para obtener extraer el id del documento y el texto del mismo del formato **json** _ "
   ]
  },
  {
   "cell_type": "code",
   "execution_count": null,
   "metadata": {
    "collapsed": false
   },
   "outputs": [],
   "source": [
    "%%writefile files/p_02B_01_InvertedIndex.py\n",
    "from mrjob.job import MRJob\n",
    "import json\n",
    "\n",
    "class InvertedIndex(MRJob):\n",
    "\n",
    "    def mapper(self, _, line):\n",
    "        key, text = json.loads(line)\n",
    "        # TU CODIGO AQUI\n",
    "        yield \"KEY\", \"VALUE\"\n",
    "\n",
    "    def reducer(self, key, values):\n",
    "        docs = []\n",
    "        # TU CODIGO AQUI\n",
    "        yield \"KEY\", \"VALUE\"\n",
    "        \n",
    "if __name__ == '__main__':\n",
    "    InvertedIndex.run()"
   ]
  },
  {
   "cell_type": "markdown",
   "metadata": {},
   "source": [
    "verifica que la salida es la esperada y prueba con nuevos valores. <font style=\"color: red\">_Elimina la opción_ `--quiet` _para ver los mensajes de error de tu código si no produce la salida esperada_\n"
   ]
  },
  {
   "cell_type": "code",
   "execution_count": null,
   "metadata": {
    "collapsed": false
   },
   "outputs": [],
   "source": [
    "%%script python files/p_02B_01_InvertedIndex.py -q \n",
    "[\"001\", \"the car is nice\"]\n",
    "[\"002\", \"that car is mine\"]\n",
    "[\"003\", \"that shirt is nice\"]  \n",
    "[\"004\", \"the car is the best\"]"
   ]
  },
  {
   "cell_type": "code",
   "execution_count": null,
   "metadata": {
    "collapsed": false,
    "scrolled": false
   },
   "outputs": [],
   "source": [
    "%%script python files/p_02B_01_InvertedIndex.py -q \n",
    "[\"001\", \"War is a state of armed conflict between autonomous organizations (such as states and non-state actors) or coalitions of such organizations. It is generally characterized by extreme collective aggression, destruction, and usually high mortality. The set of techniques used by a group to carry out war is known as warfare. An absence of war is usually called peace.\"]\n",
    "[\"032\", \"War must entail some degree of confrontation using weapons and other military technology and equipment by armed forces employing military tactics and operational art within a broad military strategy subject to military logistics.\"]\n",
    "[\"105\", \"While some scholars see warfare as a universal and ancestral aspect of human nature, others argue that it is only a result of specific socio-cultural or ecological circumstances\"]"
   ]
  },
  {
   "cell_type": "markdown",
   "metadata": {},
   "source": [
    "### Ejercicio 2: Amigos asimétricos"
   ]
  },
  {
   "cell_type": "markdown",
   "metadata": {},
   "source": [
    "Sobre el mismo ejemplo de las notas queremos ahora obtener una lista de parejas en las que la relación de amistad es asimétrica. Es decir, si en la entrada tenemos (personA, personB) y también tenemos (personB, personA) entonces ninguna de esas dos tuplas ha de aparecer en la salida. En cambio, si en la entrada tenemos (personA, personB) pero NO TENEMOS (personB, personA), entonces en la salida han de aparecer AMBAS TUPLAS.\n",
    "\n",
    "_Ejemplo de ejecución_ (entrada es en formato **json**)\n",
    "\n",
    "    [\"juan\", \"pepe\"]\n",
    "    [\"juan\", \"sebastian\"]\n",
    "    [\"raul\", \"pepe\"]\n",
    "    [\"juan\", \"ana\"]\n",
    "    [\"ana\", \"pepe\"]\n",
    "    [\"pepe\", \"ana\"]\n",
    "    [\"juan\", \"ana\"]\n",
    "    [\"ana\", \"pedro\"]\n",
    "\n",
    "_Resultado_\n",
    "\n",
    "    \"ana\"   \"pedro\"\n",
    "    \"juan\"  \"pepe\"\n",
    "    \"juan\"  \"sebastian\"\n",
    "    \"pedro\" \"ana\" \n",
    "    \"pepe\"  \"juan\"\n",
    "    \"pepe\"  \"raul\"\n",
    "    \"raul\"  \"pepe\"\n",
    "    \"sebastian\" \"juan\"\n",
    "\n"
   ]
  },
  {
   "cell_type": "code",
   "execution_count": null,
   "metadata": {
    "collapsed": false
   },
   "outputs": [],
   "source": [
    "%%writefile files/p_02B_02_FriendsAsimetric.py\n",
    "from mrjob.job import MRJob\n",
    "import json\n",
    "\n",
    "class FriendsAsimetric(MRJob):\n",
    "\n",
    "    def mapper(self, _, line):\n",
    "        f1, f2 = json.loads(line)\n",
    "        # TU CODIGO AQUI\n",
    "        yield \"KEY\", \"VALUE\"\n",
    "\n",
    "    def reducer(self, key, values):\n",
    "        # TU CODIGO AQUI\n",
    "        yield \"KEY\", \"VALUE\"\n",
    "        \n",
    "if __name__ == '__main__':\n",
    "    FriendsAsimetric.run()"
   ]
  },
  {
   "cell_type": "code",
   "execution_count": null,
   "metadata": {
    "collapsed": false
   },
   "outputs": [],
   "source": [
    "%%script python files/p_02B_02_FriendsAsimetric.py -q\n",
    "[\"juan\", \"pepe\"]\n",
    "[\"juan\", \"sebastian\"]\n",
    "[\"raul\", \"pepe\"]\n",
    "[\"juan\", \"ana\"]\n",
    "[\"ana\", \"pepe\"]\n",
    "[\"pepe\", \"ana\"]\n",
    "[\"juan\", \"ana\"]\n",
    "[\"ana\", \"pedro\"]"
   ]
  },
  {
   "cell_type": "markdown",
   "metadata": {},
   "source": [
    "### Ejercicio 3: Matriz dispersa\n",
    "\n",
    "Representamos dos matrices dispersas **a** y **b** de 2x2 de la siguiente forma:\n",
    "\n",
    "    [\"a\", 0, 0, 63]\n",
    "    [\"a\", 1, 1, 32]\n",
    "    [\"b\", 0, 0, 69]\n",
    "    [\"b\", 0, 1, 18]\n",
    "    [\"b\", 1, 1, 28]\n",
    "\n",
    "es decir\n",
    "\n",
    "    a = [63  0]     b = [69 18]    a x b = [4347 1134]\n",
    "        [ 0 32]         [ 0 28]            [   0  896]\n",
    "        \n",
    "        \n",
    "tienes que implementar un programa map-reduce que acepte como entrada las matrices en el formato disperso y devuelva la multiplicación de ambas matrices en formato también disperso.\n",
    "\n",
    "_Ejemplo de ejecución_ (entrada es en formato **json**)\n",
    "\n",
    "    [\"a\", 0, 0, 63]\n",
    "    [\"a\", 1, 1, 32]\n",
    "    [\"b\", 0, 0, 69]\n",
    "    [\"b\", 0, 1, 18]\n",
    "    [\"b\", 1, 1, 28]\n",
    "\n",
    "_Resultado_\n",
    "\n",
    "    [0, 0]\t4347\n",
    "    [0, 1]\t1134\n",
    "    [1, 1]\t896\n",
    "\n",
    "_Ayuda: Seudocódigo del map, entradas reduce_\n",
    "\n",
    "    map:\n",
    "       foreach position (i,j) in A for k=1..N yield ( (i,k), A[i,j]) \n",
    "       foreach position (j,k) in B for i=1..L yield ( (i,j), B[j,k]) \n",
    " \n",
    "    entrada reduce\n",
    "    key      values\n",
    "    [0, 0]   [[0, 63], [0, 69]]\n",
    "    [0, 1]   [[0, 18], [0, 63], [1, 28]]\n",
    "    [1, 0]   [[0, 69], [1, 32]]\n",
    "    [1, 1]   [[0, 18], [1, 28], [1, 32]]    \n",
    " "
   ]
  },
  {
   "cell_type": "code",
   "execution_count": null,
   "metadata": {
    "collapsed": false
   },
   "outputs": [],
   "source": [
    "%%writefile files/p_02B_03_Matmult.py\n",
    "from mrjob.job import MRJob\n",
    "import json\n",
    "\n",
    "N=2 # dimension de las matrices cuadradas a multiplicar\n",
    "\n",
    "class Matmult(MRJob):\n",
    "\n",
    "    def mapper(self, _, line):\n",
    "        id, y, x, val = json.loads(line)\n",
    "        # TU CODIGO AQUI\n",
    "        yield \"KEY\", \"VALUE\"\n",
    "        \n",
    "    def reducer(self, key, values):\n",
    "        # TU CODIGO AQUI\n",
    "        yield \"KEY\", \"VALUE\"\n",
    "        \n",
    "if __name__ == '__main__':\n",
    "    Matmult.run()"
   ]
  },
  {
   "cell_type": "code",
   "execution_count": null,
   "metadata": {
    "collapsed": false
   },
   "outputs": [],
   "source": [
    "%%script python files/p_02B_03_Matmult.py -q\n",
    "[\"a\", 0, 0, 63]\n",
    "[\"a\", 1, 1, 32]\n",
    "[\"b\", 0, 0, 69]\n",
    "[\"b\", 0, 1, 18]\n",
    "[\"b\", 1, 1, 28]"
   ]
  },
  {
   "cell_type": "markdown",
   "metadata": {},
   "source": [
    "---\n",
    "\n",
    "**Obtén la calificación de esta práctica**"
   ]
  },
  {
   "cell_type": "code",
   "execution_count": null,
   "metadata": {
    "collapsed": false
   },
   "outputs": [],
   "source": [
    "%run -i code/p_02B_eval"
   ]
  },
  {
   "cell_type": "code",
   "execution_count": null,
   "metadata": {
    "collapsed": true
   },
   "outputs": [],
   "source": []
  }
 ],
 "metadata": {
  "kernelspec": {
   "display_name": "Python 2",
   "language": "python",
   "name": "python2"
  },
  "language_info": {
   "codemirror_mode": {
    "name": "ipython",
    "version": 2
   },
   "file_extension": ".py",
   "mimetype": "text/x-python",
   "name": "python",
   "nbconvert_exporter": "python",
   "pygments_lexer": "ipython2",
   "version": "2.7.9"
  }
 },
 "nbformat": 4,
 "nbformat_minor": 0
}
