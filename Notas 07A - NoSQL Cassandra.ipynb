{
 "cells": [
  {
   "cell_type": "markdown",
   "metadata": {},
   "source": [
    "## Instala y arranca Cassandra"
   ]
  },
  {
   "cell_type": "markdown",
   "metadata": {},
   "source": [
    "#### descarga e instala cassandra en `/opt` DESDE UN TERMINAL\n",
    "    > wget -N http://apache.mirrors.hoobly.com/cassandra/2.1.8/apache-cassandra-2.1.8-bin.tar.gz\n",
    "    > sudo tar zxv -C /opt  -f apache-cassandra-2.1.8-bin.tar.gz > /dev/null\n",
    "    \n",
    "#### apaga algunos servicios para liberar memoria\n",
    "\n",
    "    > sudo service ambari-agent stop\n",
    "    > sudo service ambari-server stop\n",
    "    \n",
    "#### arranca el servidor de cassandra EN EL TERMINAL\n",
    "\n",
    "    > sudo /opt/apache-cassandra-2.1.8/bin/cassandra -f"
   ]
  },
  {
   "cell_type": "markdown",
   "metadata": {},
   "source": [
    "## Tablas y queries"
   ]
  },
  {
   "cell_type": "code",
   "execution_count": 26,
   "metadata": {
    "collapsed": false
   },
   "outputs": [],
   "source": [
    "%%script /opt/apache-cassandra-2.1.8/bin/cqlsh\n",
    "\n",
    "DROP KEYSPACE myspace;\n",
    "CREATE KEYSPACE myspace WITH replication = {'class': 'SimpleStrategy', 'replication_factor' : 3};"
   ]
  },
  {
   "cell_type": "code",
   "execution_count": 33,
   "metadata": {
    "collapsed": true
   },
   "outputs": [],
   "source": [
    "%%script /opt/apache-cassandra-2.1.8/bin/cqlsh\n",
    "\n",
    "use myspace;\n",
    "drop table users;\n",
    "drop table collections_example;\n",
    "create table users (username text primary key, password text);\n",
    "CREATE TABLE collections_example (    id int PRIMARY KEY,    set_example set<text>,    list_example list<text>,    map_example map<int,text> );"
   ]
  },
  {
   "cell_type": "code",
   "execution_count": 34,
   "metadata": {
    "collapsed": false
   },
   "outputs": [
    {
     "name": "stdout",
     "output_type": "stream",
     "text": [
      "\n",
      "CREATE KEYSPACE myspace WITH replication = {'class': 'SimpleStrategy', 'replication_factor': '3'}  AND durable_writes = true;\n",
      "\n",
      "CREATE TABLE myspace.collections_example (\n",
      "    id int PRIMARY KEY,\n",
      "    list_example list<text>,\n",
      "    map_example map<int, text>,\n",
      "    set_example set<text>\n",
      ") WITH bloom_filter_fp_chance = 0.01\n",
      "    AND caching = '{\"keys\":\"ALL\", \"rows_per_partition\":\"NONE\"}'\n",
      "    AND comment = ''\n",
      "    AND compaction = {'class': 'org.apache.cassandra.db.compaction.SizeTieredCompactionStrategy'}\n",
      "    AND compression = {'sstable_compression': 'org.apache.cassandra.io.compress.LZ4Compressor'}\n",
      "    AND dclocal_read_repair_chance = 0.1\n",
      "    AND default_time_to_live = 0\n",
      "    AND gc_grace_seconds = 864000\n",
      "    AND max_index_interval = 2048\n",
      "    AND memtable_flush_period_in_ms = 0\n",
      "    AND min_index_interval = 128\n",
      "    AND read_repair_chance = 0.0\n",
      "    AND speculative_retry = '99.0PERCENTILE';\n",
      "\n",
      "CREATE TABLE myspace.users (\n",
      "    username text PRIMARY KEY,\n",
      "    password text\n",
      ") WITH bloom_filter_fp_chance = 0.01\n",
      "    AND caching = '{\"keys\":\"ALL\", \"rows_per_partition\":\"NONE\"}'\n",
      "    AND comment = ''\n",
      "    AND compaction = {'class': 'org.apache.cassandra.db.compaction.SizeTieredCompactionStrategy'}\n",
      "    AND compression = {'sstable_compression': 'org.apache.cassandra.io.compress.LZ4Compressor'}\n",
      "    AND dclocal_read_repair_chance = 0.1\n",
      "    AND default_time_to_live = 0\n",
      "    AND gc_grace_seconds = 864000\n",
      "    AND max_index_interval = 2048\n",
      "    AND memtable_flush_period_in_ms = 0\n",
      "    AND min_index_interval = 128\n",
      "    AND read_repair_chance = 0.0\n",
      "    AND speculative_retry = '99.0PERCENTILE';\n",
      "\n",
      "\n"
     ]
    },
    {
     "name": "stderr",
     "output_type": "stream",
     "text": [
      "<stdin>:4:Keyspace None not found.\n"
     ]
    }
   ],
   "source": [
    "%%script /opt/apache-cassandra-2.1.8/bin/cqlsh\n",
    "\n",
    "describe keyspace myspace;\n",
    "describe columnfamily collections_example;"
   ]
  },
  {
   "cell_type": "code",
   "execution_count": 36,
   "metadata": {
    "collapsed": false
   },
   "outputs": [],
   "source": [
    "%%script /opt/apache-cassandra-2.1.8/bin/cqlsh\n",
    "\n",
    "use myspace;\n",
    "\n",
    "insert into collections_example (id, set_example) values (1, {'1-one', '2-two'});\n",
    "UPDATE collections_example SET set_example = set_example + {'3-three'} WHERE id=1;\n",
    "UPDATE collections_example SET set_example = set_example - {'3-three'} WHERE id = 1;\n",
    "\n",
    "INSERT INTO collections_example (id, list_example) VALUES (1,['1-one','2-two']) ;\n",
    "update collections_example set list_example = list_example + [ '3-three' ] where id = 1;\n",
    "update collections_example set list_example = list_example + [ '0-zero' ] where id = 1;\n",
    "\n",
    "insert into collections_example (id, map_example) values (1, { 1: 'one', 2: 'two' } );\n",
    "update collections_example set map_example[3]='tres' where id=1;"
   ]
  },
  {
   "cell_type": "code",
   "execution_count": 37,
   "metadata": {
    "collapsed": false
   },
   "outputs": [
    {
     "name": "stdout",
     "output_type": "stream",
     "text": [
      "\n",
      " id | list_example                            | map_example                     | set_example\n",
      "----+-----------------------------------------+---------------------------------+--------------------\n",
      "  1 | ['1-one', '2-two', '3-three', '0-zero'] | {1: 'one', 2: 'two', 3: 'tres'} | {'1-one', '2-two'}\n",
      "\n",
      "(1 rows)\n"
     ]
    }
   ],
   "source": [
    "%%script /opt/apache-cassandra-2.1.8/bin/cqlsh\n",
    "\n",
    "use myspace;\n",
    "select * from collections_example;"
   ]
  },
  {
   "cell_type": "code",
   "execution_count": 38,
   "metadata": {
    "collapsed": false
   },
   "outputs": [
    {
     "name": "stdout",
     "output_type": "stream",
     "text": [
      "\n",
      " id | list_example                            | map_example           | set_example\n",
      "----+-----------------------------------------+-----------------------+--------------------\n",
      "  1 | ['1-one', '2-two', '3-three', '0-zero'] | {1: 'one', 3: 'tres'} | {'1-one', '2-two'}\n",
      "\n",
      "(1 rows)\n"
     ]
    }
   ],
   "source": [
    "%%script /opt/apache-cassandra-2.1.8/bin/cqlsh\n",
    "use myspace;\n",
    "\n",
    "delete map_example[2] from collections_example where id=1;\n",
    "select * from collections_example;"
   ]
  },
  {
   "cell_type": "code",
   "execution_count": 39,
   "metadata": {
    "collapsed": false
   },
   "outputs": [
    {
     "name": "stdout",
     "output_type": "stream",
     "text": [
      "\n",
      " id | list_example                            | map_example           | name | set_example\n",
      "----+-----------------------------------------+-----------------------+------+--------------------\n",
      "  1 | ['1-one', '2-two', '3-three', '0-zero'] | {1: 'one', 3: 'tres'} | null | {'1-one', '2-two'}\n",
      "\n",
      "(1 rows)\n"
     ]
    }
   ],
   "source": [
    "%%script /opt/apache-cassandra-2.1.8/bin/cqlsh\n",
    "use myspace;\n",
    "\n",
    "alter table collections_example add name text;\n",
    "select * from collections_example;"
   ]
  },
  {
   "cell_type": "code",
   "execution_count": 41,
   "metadata": {
    "collapsed": false
   },
   "outputs": [
    {
     "name": "stdout",
     "output_type": "stream",
     "text": [
      "Current consistency level is ONE.\n",
      "Consistency level set to ALL.\n"
     ]
    }
   ],
   "source": [
    "%%script /opt/apache-cassandra-2.1.8/bin/cqlsh\n",
    "use myspace;\n",
    "\n",
    "consistency\n",
    "consistency all"
   ]
  }
 ],
 "metadata": {
  "kernelspec": {
   "display_name": "Python 2",
   "language": "python",
   "name": "python2"
  },
  "language_info": {
   "codemirror_mode": {
    "name": "ipython",
    "version": 2
   },
   "file_extension": ".py",
   "mimetype": "text/x-python",
   "name": "python",
   "nbconvert_exporter": "python",
   "pygments_lexer": "ipython2",
   "version": "2.7.9"
  }
 },
 "nbformat": 4,
 "nbformat_minor": 0
}
