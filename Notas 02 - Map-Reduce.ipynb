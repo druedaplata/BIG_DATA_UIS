{
 "cells": [
  {
   "cell_type": "markdown",
   "metadata": {},
   "source": [
    "# Map Reduce"
   ]
  },
  {
   "cell_type": "code",
   "execution_count": 514,
   "metadata": {
    "collapsed": false
   },
   "outputs": [
    {
     "data": {
      "text/html": [
       "<link href='http://fonts.googleapis.com/css?family=Fenix' rel='stylesheet' type='text/css'>\n",
       "<link href='http://fonts.googleapis.com/css?family=Alegreya+Sans:100,300,400,500,700,800,900,100italic,300italic,400italic,500italic,700italic,800italic,900italic' rel='stylesheet' type='text/css'>\n",
       "<link href='http://fonts.googleapis.com/css?family=Source+Code+Pro:300,400' rel='stylesheet' type='text/css'>\n",
       "<style>\n",
       "    @font-face {\n",
       "        font-family: \"Computer Modern\";\n",
       "        src: url('http://mirrors.ctan.org/fonts/cm-unicode/fonts/otf/cmunss.otf');\n",
       "    }\n",
       "    div.cell{\n",
       "        width:800px;\n",
       "        margin-left:16% !important;\n",
       "        margin-right:auto;\n",
       "    }\n",
       "\n",
       "    h1 {\n",
       "        font-family: 'Alegreya Sans', sans-serif;\n",
       "    }\n",
       "    h2 {\n",
       "        font-family: 'Fenix', serif;\n",
       "    }\n",
       "    h3{\n",
       "\t\tfont-family: 'Fenix', serif;\n",
       "        margin-top:12px;\n",
       "        margin-bottom: 3px;\n",
       "       }\n",
       "\th4{\n",
       "\t\tfont-family: 'Fenix', serif;\n",
       "       }\n",
       "    h5 {\n",
       "        font-family: 'Alegreya Sans', sans-serif;\n",
       "    }\t   \n",
       "\n",
       "    div.text_cell_render{\n",
       "        font-family: 'Alegreya Sans',Computer Modern, \"Helvetica Neue\", Arial, Helvetica, Geneva, sans-serif;\n",
       "        line-height: 135%;\n",
       "        font-size: 120%;\n",
       "        width:600px;\n",
       "        margin-left:auto;\n",
       "        margin-right:auto;\n",
       "    }\n",
       "\n",
       "    b { font-size:400%; }\n",
       "\n",
       ".text_cell_render table {\n",
       "    border: solid 1px #DDEEEE;\n",
       "    border-collapse: collapse;\n",
       "    border-spacing: 0;\n",
       "    width: 500px;\n",
       "    font: normal 13px Arial, sans-serif;\n",
       "}\n",
       ".text_cell_render th {\n",
       "    background-color: #DDEFEF;\n",
       "    border: solid 1px #DDEEEE;\n",
       "    color: #336B6B;\n",
       "    padding: 10px;\n",
       "    text-align: left;\n",
       "    text-shadow: 1px 1px 1px #fff;\n",
       "}\n",
       ".text_cell_render tbody td {\n",
       "    border: solid 1px #DDEEEE;\n",
       "    color: #333;\n",
       "    padding: 10px;\n",
       "    text-shadow: 1px 1px 1px #fff;\n",
       "}\n",
       "\n",
       ".text_cell_render pre { \n",
       "    font-family: Monaco, Consolas, \"Andale Mono\", \"DejaVu Sans Mono\", monospace;\n",
       "    font-size: 80%;\n",
       "    line-height: 140%;\n",
       "    white-space: pre;\n",
       "    white-space: pre-wrap;\n",
       "    white-space: -moz-pre-wrap;\n",
       "    white-space: -o-pre-wrap;\n",
       "    background: #faf8f0;\n",
       "} \n",
       "\n",
       ".text_cell_render code {     \n",
       "    font-family: Monaco, Consolas, \"Andale Mono\", \"DejaVu Sans Mono\", monospace;\n",
       "    font-size: 80%;\n",
       "    line-height: 140%;\n",
       "    white-space: pre;\n",
       "    white-space: pre-wrap;\n",
       "    white-space: -moz-pre-wrap;\n",
       "    white-space: -o-pre-wrap;\n",
       "    background: #faf8f0;\n",
       "}\n",
       "\n",
       "\n",
       "    .CodeMirror{\n",
       "            font-family: \"Source Code Pro\";\n",
       "\t\t\tfont-size: 90%;\n",
       "    }\n",
       "/*    .prompt{\n",
       "        display: None;\n",
       "    }*/\n",
       "    .text_cell_render h1 {\n",
       "        font-weight: 200;\n",
       "        font-size: 50pt;\n",
       "\t\tline-height: 100%;\n",
       "        color:#CD2305;\n",
       "        margin-bottom: 0.5em;\n",
       "        margin-top: 0.5em;\n",
       "        display: block;\n",
       "    }\t\n",
       "    .text_cell_render h5 {\n",
       "        font-weight: 300;\n",
       "        font-size: 16pt;\n",
       "        color: #CD2305;\n",
       "        font-style: italic;\n",
       "        margin-bottom: .5em;\n",
       "        margin-top: 0.5em;\n",
       "        display: block;\n",
       "    }\n",
       "    \n",
       "    .warning{\n",
       "        color: rgb( 240, 20, 20 )\n",
       "        }  \n",
       "</style>\n",
       "<script>\n",
       "    MathJax.Hub.Config({\n",
       "                        TeX: {\n",
       "                           extensions: [\"AMSmath.js\"]\n",
       "                           },\n",
       "                tex2jax: {\n",
       "                    inlineMath: [ ['$','$'], [\"\\\\(\",\"\\\\)\"] ],\n",
       "                    displayMath: [ ['$$','$$'], [\"\\\\[\",\"\\\\]\"] ]\n",
       "                },\n",
       "                displayAlign: 'center', // Change this to 'center' to center equations.\n",
       "                \"HTML-CSS\": {\n",
       "                    styles: {'.MathJax_Display': {\"margin\": 4}}\n",
       "                }\n",
       "        });\n",
       "</script>\n"
      ],
      "text/plain": [
       "<IPython.core.display.HTML object>"
      ]
     },
     "execution_count": 514,
     "metadata": {},
     "output_type": "execute_result"
    }
   ],
   "source": [
    "# formatting ONLY IN NOTEBOOK\n",
    "import book_format\n",
    "book_format.load_style()"
   ]
  },
  {
   "cell_type": "markdown",
   "metadata": {},
   "source": [
    "## Procesamiento de información con MAP-REDUCE"
   ]
  },
  {
   "cell_type": "markdown",
   "metadata": {},
   "source": [
    "### Un ejemplo\n",
    "Tenemos un log de la siguiente manera\n",
    "\n",
    "    2012-01-01 09:08 BOG Libros 88.56 Discover\n",
    "    2012-01-01 09:52 BGA Libros 62.41 Discover\n",
    "    2012-01-01 10:08 MED Musica 93.37 Visa\n",
    "    2012-01-01 10:58 MED Musica 395.93 Discover\n",
    "    2012-01-01 14:38 BOG Musica 113.24 MasterCard\n",
    "    2012-01-01 14:44 BGA Libros 290.5 Visa\n",
    "    2012-01-01 16:26 MED Musica 246.12 Efectivo\n",
    "\n",
    "Con el `dia`, `hora`, `ciudad`, `producto`, `importe` y `medio de pago` de compras realizadas en almacenes de una cierta cadena. Queremos obtener el total del importe de compras realizadas en cada ciudad. Una forma de hacerlo es la siguiente:\n",
    "\n",
    "1) procesamos cada linea y, de cada una, generamos un par `(ciudad, importe)`, obteniendo los siguientes pares:\n",
    "\n",
    "    (BOG, 88.56)\n",
    "    (BGA, 62.41)\n",
    "    (MED, 93.37)\n",
    "    (MED, 395.93)\n",
    "    (BOG, 113.24)\n",
    "    (BGA, 290.5)\n",
    "    (MED, 246.12)\n",
    "    \n",
    "2) agrupamos las tuplas generadas por el valor del primer componente:\n",
    "\n",
    "    (BOG, [88.56, 113.24])\n",
    "    (BGA, [62.41, 290.5])\n",
    "    (MED, [93.37, 395.93, 246.12])\n",
    "     \n",
    "3) sumamos los elementos de cada lista para cada ciudad:\n",
    "\n",
    "    (BOG, 201.8)\n",
    "    (BGA, 352.91)\n",
    "    (MED, 735.42)\n",
    "    \n",
    "\n"
   ]
  },
  {
   "cell_type": "markdown",
   "metadata": {},
   "source": [
    "### Tres fases\n",
    "\n",
    "El primer paso en el ejemplo anterior se denomina **MAP** y, para cada registro de entrada, genera una tupla de formato `(clave, valor)`.\n",
    "\n",
    "El segundo paso se denomina **SHUFFLE** y lo que hace es recopilar todas las tuplas generadas en el MAP anterior de cada `clave` y construir una lista con todos los valores generados. Es decir, una tupla de formato `(clave, lista_de_valores)` para cada clave.\n",
    "\n",
    "El tercer paso se denomina **REDUCE** y, para cada clave, agrega los resultados de la lista generada en el SHUFFLE anterior.\n",
    "\n",
    "Esta forma de procesar los datos constituye un **modelo de programación** llamado *MAP-REDUCE* y que está implementado por varios frameworks de programación y en varios lenguajes, de forma que el programador **solo implementa las funciones MAP y REDUCE** y el framework se encarga del shuffle."
   ]
  },
  {
   "cell_type": "markdown",
   "metadata": {},
   "source": [
    "### mr-job\n",
    "\n",
    "\n",
    "Usaremos el framework [mr-job](https://pythonhosted.org/mrjob) para hacer nuestros programas map-reduce. El siguiente código implementa el proceso que acabamos de describir. Fíjate cómo sólo programamos las funciones `mapper` y `reducer`."
   ]
  },
  {
   "cell_type": "code",
   "execution_count": 538,
   "metadata": {
    "collapsed": false
   },
   "outputs": [
    {
     "name": "stdout",
     "output_type": "stream",
     "text": [
      "Overwriting files/mr-basico.py\n"
     ]
    }
   ],
   "source": [
    "%%writefile files/mr-basico.py\n",
    "from mrjob.job import MRJob\n",
    "import os\n",
    "\n",
    "class Compras(MRJob):\n",
    "\n",
    "    def mapper(self, _, line):\n",
    "        tokens = line.split()\n",
    "        yield tokens[2], float(tokens[4])\n",
    "\n",
    "    def reducer(self, key, values):\n",
    "        yield key, sum(values)\n",
    "        \n",
    "if __name__ == '__main__':\n",
    "    c = Compras()\n",
    "    c.run()\n"
   ]
  },
  {
   "cell_type": "code",
   "execution_count": 534,
   "metadata": {
    "collapsed": false
   },
   "outputs": [
    {
     "name": "stdout",
     "output_type": "stream",
     "text": [
      "\"BGA\"\t352.90999999999997\n",
      "\"BOG\"\t201.8\n",
      "\"MED\"\t735.42\n"
     ]
    }
   ],
   "source": [
    "%%script python files/mr-basico.py -r inline --quiet\n",
    "2012-01-01 09:08 BOG Libros 88.56 Discover\n",
    "2012-01-01 09:52 BGA Libros 62.41 Discover\n",
    "2012-01-01 10:08 MED Musica 93.37 Visa\n",
    "2012-01-01 10:58 MED Musica 395.93 Discover\n",
    "2012-01-01 14:38 BOG Musica 113.24 MasterCard\n",
    "2012-01-01 14:44 BGA Libros 290.5 Visa\n",
    "2012-01-01 16:26 MED Musica 246.12 Efectivo"
   ]
  },
  {
   "cell_type": "markdown",
   "metadata": {
    "collapsed": true
   },
   "source": [
    "_Prueba a eliminar el término_ `--quiet` _de la celda anterior y así verás los mensajes que emite **mr-job** durante la ejecución del programa_. <font style=\"color: red\"/>**Tendrás que hacer esto si tus programas map-reduce no funcionan como esperado y así ver los mensajes de error del código**"
   ]
  },
  {
   "cell_type": "markdown",
   "metadata": {},
   "source": [
    "### Otro ejemplo\n",
    "\n",
    "En este ejemplo partimos de una tuplas (personaA, personaB) que representa que la personaA considera a la personaB como amiga. La relación no es simétrica. El siguiente programa cuenta cuantas amigos considera cada persona que tiene.\n",
    "\n",
    "Fíjate que la entrada es en formato JSON y cómo usamos la librería `json` de Python para convertir la entrada JSON en una lista de valores."
   ]
  },
  {
   "cell_type": "code",
   "execution_count": 547,
   "metadata": {
    "collapsed": false
   },
   "outputs": [
    {
     "name": "stdout",
     "output_type": "stream",
     "text": [
      "Overwriting files/mr-amigos.py\n"
     ]
    }
   ],
   "source": [
    "%%writefile files/mr-amigos.py\n",
    "from mrjob.job import MRJob\n",
    "import json\n",
    "\n",
    "class Amigos(MRJob):\n",
    "\n",
    "    def mapper(self, _, line):\n",
    "        record = json.loads(line)\n",
    "        yield record[0], 1\n",
    "\n",
    "    def reducer(self, key, values):\n",
    "        yield key, sum(values)\n",
    "        \n",
    "if __name__ == '__main__':\n",
    "    c = Amigos()\n",
    "    c.run()\n"
   ]
  },
  {
   "cell_type": "code",
   "execution_count": 548,
   "metadata": {
    "collapsed": false
   },
   "outputs": [
    {
     "name": "stdout",
     "output_type": "stream",
     "text": [
      "\"ana\"\t2\n",
      "\"juan\"\t3\n",
      "\"raul\"\t1\n"
     ]
    }
   ],
   "source": [
    "%%script python files/mr-amigos.py -r inline --quiet\n",
    "[\"juan\", \"pepe\"]\n",
    "[\"juan\", \"sebastian\"]\n",
    "[\"raul\", \"pepe\"]\n",
    "[\"ana\", \"pepe\"]\n",
    "[\"juan\", \"ana\"]\n",
    "[\"ana\", \"pedro\"]"
   ]
  },
  {
   "cell_type": "markdown",
   "metadata": {},
   "source": [
    "## Instrumentación y runners\n",
    "\n",
    "Usamos la instrumentación para encontrar errores, entender nuestro código, etc. Por ahora usamos `print` para saber cuantas veces se llama a cada función. Fíjate como el `reducer` se llama una vez por cada clave distinta que generamos en el `mapper`. Cuando usemos varios procesos o máquinas tendremos que recurrir a otros tipos de instrumentación.\n",
    "\n",
    "Fíjate también que `values` en la función `reducer` es un **generador** [[ref](http://www.jeffknupp.com/blog/2013/04/07/improve-your-python-yield-and-generators-explained/)], es decir, no contiene en sí una lista de valores, sino que cada vez que va devolviendo valores uno a uno hasta que se acaban. Típicamente esto sucede porque va obteniendo los valores que devuelve de un _stream_ de entrada como un fichero, o una conexión remota. Por esto sólo podemos iterar sobre todos los valores **una única vez**.\n",
    "\n",
    "Como ahora en el `reducer` queremos obtenter ambos el número de valores que tenemos y la suma de los mismos, tenemos que modificar nuestro código."
   ]
  },
  {
   "cell_type": "code",
   "execution_count": 355,
   "metadata": {
    "collapsed": false
   },
   "outputs": [
    {
     "name": "stdout",
     "output_type": "stream",
     "text": [
      "Overwriting files/mr-basico-instrumentado.py\n"
     ]
    }
   ],
   "source": [
    "%%writefile files/mr-basico-instrumentado.py\n",
    "from mrjob.job import MRJob\n",
    "from sys import stdin\n",
    "import os\n",
    "\n",
    "class Compras(MRJob):\n",
    "    def mapper(self, _, line):\n",
    "        tokens = line.split()\n",
    "        print \"mapper >>\", line\n",
    "        yield tokens[2], float(tokens[4])\n",
    "        \n",
    "    def reducer(self, key, values):\n",
    "        n_values, sum_values = 0,0\n",
    "        for i in values:\n",
    "            n_values += 1\n",
    "            sum_values += i\n",
    "        print \"reducer >>\", key, \"number of values\", n_values\n",
    "        yield key, sum_values\n",
    "        \n",
    "if __name__ == '__main__':\n",
    "    c = Compras()\n",
    "    c.run()"
   ]
  },
  {
   "cell_type": "code",
   "execution_count": 408,
   "metadata": {
    "collapsed": false,
    "scrolled": false
   },
   "outputs": [
    {
     "name": "stdout",
     "output_type": "stream",
     "text": [
      "mapper >> 2012-01-01 09:08 BOG Libros 88.56 Discover\n",
      "mapper >> 2012-01-01 09:52 BGA Libros 62.41 Discover\n",
      "mapper >> 2012-01-01 10:08 MED Musica 93.37 Visa\n",
      "mapper >> 2012-01-01 10:58 MED Musica 395.93 Discover\n",
      "mapper >> 2012-01-01 14:38 BOG Musica 113.24 MasterCard\n",
      "mapper >> 2012-01-01 14:44 BGA Libros 290.5 Visa\n",
      "mapper >> 2012-01-01 16:26 MED Musica 246.12 Efectivo\n",
      "reducer >> BGA number of values 2\n",
      "reducer >> BOG number of values 2\n",
      "reducer >> MED number of values 3\n",
      "\"BGA\"\t352.90999999999997\n",
      "\"BOG\"\t201.8\n",
      "\"MED\"\t735.42\n"
     ]
    }
   ],
   "source": [
    "%%script python files/mr-basico-instrumentado.py --quiet\n",
    "2012-01-01 09:08 BOG Libros 88.56 Discover\n",
    "2012-01-01 09:52 BGA Libros 62.41 Discover\n",
    "2012-01-01 10:08 MED Musica 93.37 Visa\n",
    "2012-01-01 10:58 MED Musica 395.93 Discover\n",
    "2012-01-01 14:38 BOG Musica 113.24 MasterCard\n",
    "2012-01-01 14:44 BGA Libros 290.5 Visa\n",
    "2012-01-01 16:26 MED Musica 246.12 Efectivo"
   ]
  },
  {
   "cell_type": "markdown",
   "metadata": {},
   "source": [
    "### Local runner\n",
    "\n",
    "Los programas en **mr-job** pueden ejecutarse en distintos **runners**. Fíjate en la opción `-r` cuando ejecutamos nuestro código. Los runners posibles son los siguientes:\n",
    "\n",
    "- **inline**: todos los `mapper` y `reducer` corren en el mismo proceso. Esta opción es útil para empezar a desarrollar un código y verificarlo funcionalmente.\n",
    "\n",
    "- **local**: cada `mapper` y `reducer` corren en distintos procesos independientes en la misma máquina. Con esta opción podemos hacer una primera simulación de nuetro código en un entorno distribuido.\n",
    "\n",
    "- **hadoop**: nuestro código se ejecuta en un cluster Hadoop\n",
    "\n",
    "Instrumentar código con un local runner o en Hadoop ya no es tan fácil porque cada ejecución de las funciones `mapper` y `reducer` se hace en procesos o en máquinas distintas. Si no tenemos un mecanismo para recoger y coordinar la instrumentación generada en los distintos procesos o máquinas perderemos al menos parte de ella.\n"
   ]
  },
  {
   "cell_type": "code",
   "execution_count": 409,
   "metadata": {
    "collapsed": false
   },
   "outputs": [
    {
     "name": "stdout",
     "output_type": "stream",
     "text": [
      "reducer >> BGA number of values 2\n",
      "\"BGA\"\t352.90999999999997\n",
      "reducer >> BOG number of values 2\n",
      "\"BOG\"\t201.8\n",
      "reducer >> MED number of values 3\n",
      "\"MED\"\t735.42\n"
     ]
    }
   ],
   "source": [
    "%%script python files/mr-basico-instrumentado.py -r local --quiet\n",
    "2012-01-01 09:08 BOG Libros 88.56 Discover\n",
    "2012-01-01 09:52 BGA Libros 62.41 Discover\n",
    "2012-01-01 10:08 MED Musica 93.37 Visa\n",
    "2012-01-01 10:58 MED Musica 395.93 Discover\n",
    "2012-01-01 14:38 BOG Musica 113.24 MasterCard\n",
    "2012-01-01 14:44 BGA Libros 290.5 Visa\n",
    "2012-01-01 16:26 MED Musica 246.12 Efectivo"
   ]
  },
  {
   "cell_type": "markdown",
   "metadata": {},
   "source": [
    "Distintos frameworks usan distintos mecanismos para instrumentar el código distribuido. En este caso (mrjob/Hadoop) usamos los `counters`, y el framework asegura un estado global de los mismos de manera consistente. Ahora necesitamos mostrar los mensajes de salida del framework para ver el valor final de los contadores.\n",
    "\n",
    "Usamos a partir de ahora el fichero `data/compras.txt` que tiene 30 registros con el mismo formato que el usado hasta ahora."
   ]
  },
  {
   "cell_type": "code",
   "execution_count": 426,
   "metadata": {
    "collapsed": false
   },
   "outputs": [
    {
     "name": "stdout",
     "output_type": "stream",
     "text": [
      "2012-01-01 09:08 BOG Libros 88.56 Discover\r\n",
      "2012-01-01 09:09 BGA Libros 337.71 Efectivo\r\n",
      "2012-01-01 09:52 BGA Libros 450.33 MasterCard\r\n",
      "2012-01-01 09:52 BGA Libros 62.41 Discover\r\n",
      "2012-01-01 10:08 MED Musica 93.37 Visa\r\n",
      "2012-01-01 10:22 BGA Musica 369.94 MasterCard\r\n",
      "2012-01-01 10:58 MED Musica 119.12 Efectivo\r\n",
      "2012-01-01 10:58 MED Musica 395.93 Discover\r\n",
      "2012-01-01 11:01 MED Musica 476.82 Efectivo\r\n",
      "2012-01-01 11:15 MED Musica 22.34 Visa\r\n",
      "2012-01-01 11:31 BGA Musica 114.03 Efectivo\r\n",
      "2012-01-01 11:36 BOG Musica 296.76 Discover\r\n",
      "2012-01-01 11:52 BGA Musica 347.24 Visa\r\n",
      "2012-01-01 12:01 MED Libros 154.86 Discover\r\n",
      "2012-01-01 12:08 MED Libros 391.65 Visa\r\n",
      "2012-01-01 12:19 BOG Libros 165.05 Efectivo\r\n",
      "2012-01-01 12:19 BOG Libros 293.76 Discover\r\n",
      "2012-01-01 12:48 MED Libros 212.47 MasterCard\r\n",
      "2012-01-01 12:55 BOG Libros 352.38 Discover\r\n",
      "2012-01-01 13:04 BOG Musica 303.96 MasterCard\r\n",
      "2012-01-01 13:12 MED Musica 429.44 Efectivo\r\n",
      "2012-01-01 13:44 BOG Libros 249.6 MasterCard\r\n",
      "2012-01-01 14:20 BOG Libros 71.13 MasterCard\r",
      "\r\n",
      "2012-01-01 14:34 BGA Libros 72.04 Visa\r\n",
      "2012-01-01 14:38 BOG Musica 113.24 MasterCard\r\n",
      "2012-01-01 14:44 BGA Libros 290.5 Visa\r\n",
      "2012-01-01 15:22 BGA Libros 0.79 MasterCard\r\n",
      "2012-01-01 15:51 BOG Libros 74.13 Efectivo\r\n",
      "2012-01-01 16:01 MED Libros 92.19 MasterCard\r\n",
      "2012-01-01 16:26 MED Musica 246.12 Efectivo\r\n"
     ]
    }
   ],
   "source": [
    "!cat data/compras.txt"
   ]
  },
  {
   "cell_type": "code",
   "execution_count": 482,
   "metadata": {
    "collapsed": false
   },
   "outputs": [
    {
     "name": "stdout",
     "output_type": "stream",
     "text": [
      "Overwriting files/mr-basico-instrumentado-counters.py\n"
     ]
    }
   ],
   "source": [
    "%%writefile files/mr-basico-instrumentado-counters.py\n",
    "from mrjob.job import MRJob\n",
    "from sys import stdin\n",
    "import os\n",
    "\n",
    "class Compras(MRJob):\n",
    "\n",
    "    def mapper(self, _, line):\n",
    "        tokens = line.split()\n",
    "        self.increment_counter(\"llamadas al map\", \"numero\", 1)\n",
    "        yield tokens[2], float(tokens[4])\n",
    "        \n",
    "    def reducer(self, key, values):\n",
    "        n_values, sum_values = 0,0\n",
    "        for i in values:\n",
    "            n_values += 1\n",
    "            sum_values += i\n",
    "        self.increment_counter(\"longitud valores reduce\", key, n_values )\n",
    "        yield key, sum_values\n",
    "        \n",
    "if __name__ == '__main__':\n",
    "    c = Compras()\n",
    "    c.run()\n"
   ]
  },
  {
   "cell_type": "code",
   "execution_count": 483,
   "metadata": {
    "collapsed": false,
    "scrolled": false
   },
   "outputs": [
    {
     "name": "stdout",
     "output_type": "stream",
     "text": [
      "\"BGA\"\t2044.99\n",
      "\"BOG\"\t2008.5700000000002\n",
      "\"MED\"\t2634.31\n"
     ]
    },
    {
     "name": "stderr",
     "output_type": "stream",
     "text": [
      "no configs found; falling back on auto-configuration\n",
      "no configs found; falling back on auto-configuration\n",
      "creating tmp directory /var/folders/99/l67frk955p3bd79ccfqgfszm0000gn/T/mr-basico-instrumentado-counters.rlx.20150322.032154.766450\n",
      "writing to /var/folders/99/l67frk955p3bd79ccfqgfszm0000gn/T/mr-basico-instrumentado-counters.rlx.20150322.032154.766450/step-0-mapper_part-00000\n",
      "> /opt/anaconda/bin/python mr-basico-instrumentado-counters.py --step-num=0 --mapper /var/folders/99/l67frk955p3bd79ccfqgfszm0000gn/T/mr-basico-instrumentado-counters.rlx.20150322.032154.766450/input_part-00000 > /var/folders/99/l67frk955p3bd79ccfqgfszm0000gn/T/mr-basico-instrumentado-counters.rlx.20150322.032154.766450/step-0-mapper_part-00000\n",
      "writing to /var/folders/99/l67frk955p3bd79ccfqgfszm0000gn/T/mr-basico-instrumentado-counters.rlx.20150322.032154.766450/step-0-mapper_part-00001\n",
      "> /opt/anaconda/bin/python mr-basico-instrumentado-counters.py --step-num=0 --mapper /var/folders/99/l67frk955p3bd79ccfqgfszm0000gn/T/mr-basico-instrumentado-counters.rlx.20150322.032154.766450/input_part-00001 > /var/folders/99/l67frk955p3bd79ccfqgfszm0000gn/T/mr-basico-instrumentado-counters.rlx.20150322.032154.766450/step-0-mapper_part-00001\n",
      "Counters from step 1:\n",
      "  llamadas al map:\n",
      "    numero: 30\n",
      "writing to /var/folders/99/l67frk955p3bd79ccfqgfszm0000gn/T/mr-basico-instrumentado-counters.rlx.20150322.032154.766450/step-0-mapper-sorted\n",
      "> sort /var/folders/99/l67frk955p3bd79ccfqgfszm0000gn/T/mr-basico-instrumentado-counters.rlx.20150322.032154.766450/step-0-mapper_part-00000 /var/folders/99/l67frk955p3bd79ccfqgfszm0000gn/T/mr-basico-instrumentado-counters.rlx.20150322.032154.766450/step-0-mapper_part-00001\n",
      "writing to /var/folders/99/l67frk955p3bd79ccfqgfszm0000gn/T/mr-basico-instrumentado-counters.rlx.20150322.032154.766450/step-0-reducer_part-00000\n",
      "> /opt/anaconda/bin/python mr-basico-instrumentado-counters.py --step-num=0 --reducer /var/folders/99/l67frk955p3bd79ccfqgfszm0000gn/T/mr-basico-instrumentado-counters.rlx.20150322.032154.766450/input_part-00000 > /var/folders/99/l67frk955p3bd79ccfqgfszm0000gn/T/mr-basico-instrumentado-counters.rlx.20150322.032154.766450/step-0-reducer_part-00000\n",
      "writing to /var/folders/99/l67frk955p3bd79ccfqgfszm0000gn/T/mr-basico-instrumentado-counters.rlx.20150322.032154.766450/step-0-reducer_part-00001\n",
      "> /opt/anaconda/bin/python mr-basico-instrumentado-counters.py --step-num=0 --reducer /var/folders/99/l67frk955p3bd79ccfqgfszm0000gn/T/mr-basico-instrumentado-counters.rlx.20150322.032154.766450/input_part-00001 > /var/folders/99/l67frk955p3bd79ccfqgfszm0000gn/T/mr-basico-instrumentado-counters.rlx.20150322.032154.766450/step-0-reducer_part-00001\n",
      "Counters from step 1:\n",
      "  llamadas al map:\n",
      "    numero: 30\n",
      "  longitud valores reduce:\n",
      "    BGA: 9\n",
      "    BOG: 10\n",
      "    MED: 11\n",
      "Moving /var/folders/99/l67frk955p3bd79ccfqgfszm0000gn/T/mr-basico-instrumentado-counters.rlx.20150322.032154.766450/step-0-reducer_part-00000 -> /var/folders/99/l67frk955p3bd79ccfqgfszm0000gn/T/mr-basico-instrumentado-counters.rlx.20150322.032154.766450/output/part-00000\n",
      "Moving /var/folders/99/l67frk955p3bd79ccfqgfszm0000gn/T/mr-basico-instrumentado-counters.rlx.20150322.032154.766450/step-0-reducer_part-00001 -> /var/folders/99/l67frk955p3bd79ccfqgfszm0000gn/T/mr-basico-instrumentado-counters.rlx.20150322.032154.766450/output/part-00001\n",
      "Streaming final output from /var/folders/99/l67frk955p3bd79ccfqgfszm0000gn/T/mr-basico-instrumentado-counters.rlx.20150322.032154.766450/output\n",
      "removing tmp directory /var/folders/99/l67frk955p3bd79ccfqgfszm0000gn/T/mr-basico-instrumentado-counters.rlx.20150322.032154.766450\n"
     ]
    }
   ],
   "source": [
    "%%script python files/mr-basico-instrumentado-counters.py -r local data/compras.txt\n",
    "--"
   ]
  },
  {
   "cell_type": "markdown",
   "metadata": {},
   "source": [
    "podemos también ejecutar el mismo código, capturar el `stderr` y quedarnos con lo que nos interesa "
   ]
  },
  {
   "cell_type": "code",
   "execution_count": 519,
   "metadata": {
    "collapsed": false
   },
   "outputs": [
    {
     "name": "stdout",
     "output_type": "stream",
     "text": [
      "\"BGA\"\t2044.99\n",
      "\"BOG\"\t2008.5700000000002\n",
      "\"MED\"\t2634.31\n"
     ]
    }
   ],
   "source": [
    "%%script --err err python files/mr-basico-instrumentado-counters.py -r local data/compras.txt\n",
    "--"
   ]
  },
  {
   "cell_type": "code",
   "execution_count": 520,
   "metadata": {
    "collapsed": false
   },
   "outputs": [
    {
     "name": "stdout",
     "output_type": "stream",
     "text": [
      "Counters from step 1:\n",
      "  llamadas al map:\n",
      "    numero: 30\n",
      "Counters from step 1:\n",
      "  llamadas al map:\n",
      "    numero: 30\n",
      "  longitud valores reduce:\n",
      "    BGA: 9\n",
      "    BOG: 10\n",
      "    MED: 11\n",
      "\n"
     ]
    }
   ],
   "source": [
    "def print_stderr(err):\n",
    "    for line in err.split(\"\\n\"):\n",
    "        if not any (x in line for x in [\"configs\", \"writing\", \"creating\", \"python\", \n",
    "                                        \"sort\", \"Moving\", \"Streaming\", \"removing\"]):\n",
    "            print line\n",
    "            \n",
    "print_stderr(err)"
   ]
  },
  {
   "cell_type": "markdown",
   "metadata": {},
   "source": [
    "### Controlando el número de mappers y reducers\n",
    "Ahora cambiamos la instrumentación para que cuente el número de llamadas de cada función por cada proceso. Puedes controlar el número de mappers y reducers al ejecutar tu programa como se indica abajo. Prueba a ejecutar el código con distintos números de mappers."
   ]
  },
  {
   "cell_type": "code",
   "execution_count": 495,
   "metadata": {
    "collapsed": false
   },
   "outputs": [
    {
     "name": "stdout",
     "output_type": "stream",
     "text": [
      "Overwriting files/mr-basico-instrumentado-counters-tasks.py\n"
     ]
    }
   ],
   "source": [
    "%%writefile files/mr-basico-instrumentado-counters-tasks.py\n",
    "from mrjob.job import MRJob\n",
    "from sys import stdin\n",
    "import os\n",
    "\n",
    "class Compras(MRJob):\n",
    "\n",
    "    def mapper(self, _, line):\n",
    "        tokens = line.split()\n",
    "        self.increment_counter(\"map: proceso \"+str(os.getpid()), \"numero\", 1)\n",
    "        yield tokens[2], float(tokens[4])\n",
    "        \n",
    "    def reducer(self, key, values):\n",
    "        n_values, sum_values = 0,0\n",
    "        for i in values:\n",
    "            n_values += 1\n",
    "            sum_values += i\n",
    "        self.increment_counter(\"longitud valores reduce: proceso \"+str(os.getpid()), key, n_values )\n",
    "        yield key, sum_values\n",
    "        \n",
    "        \n",
    "if __name__ == '__main__':\n",
    "    c = Compras()\n",
    "    c.run()"
   ]
  },
  {
   "cell_type": "markdown",
   "metadata": {},
   "source": [
    "_la linea entera que se ejecuta a continuación es la siguiente_\n",
    "\n",
    "    python files/mr-basico-instrumentado-counters-tasks.py \n",
    "           -r local \n",
    "           --jobconf mapred.map.tasks=5 \n",
    "           --jobconf mapred.reduce.tasks=1 \n",
    "           data/compras.txt"
   ]
  },
  {
   "cell_type": "code",
   "execution_count": 496,
   "metadata": {
    "collapsed": false,
    "scrolled": false
   },
   "outputs": [
    {
     "name": "stdout",
     "output_type": "stream",
     "text": [
      "\"BGA\"\t2044.99\n",
      "\"BOG\"\t2008.5700000000002\n",
      "\"MED\"\t2634.31\n"
     ]
    }
   ],
   "source": [
    "%%script --err err python files/mr-basico-instrumentado-counters-tasks.py -r local --jobconf mapred.map.tasks=5 --jobconf mapred.reduce.tasks=1 data/compras.txt\n",
    "--"
   ]
  },
  {
   "cell_type": "code",
   "execution_count": 497,
   "metadata": {
    "collapsed": false
   },
   "outputs": [
    {
     "name": "stdout",
     "output_type": "stream",
     "text": [
      "Counters from step 1:\n",
      "  map: proceso 47150:\n",
      "    numero: 6\n",
      "  map: proceso 47151:\n",
      "    numero: 7\n",
      "  map: proceso 47152:\n",
      "    numero: 6\n",
      "  map: proceso 47153:\n",
      "    numero: 6\n",
      "  map: proceso 47154:\n",
      "    numero: 5\n",
      "Counters from step 1:\n",
      "  longitud valores reduce: proceso 47156:\n",
      "    BGA: 9\n",
      "    BOG: 10\n",
      "    MED: 11\n",
      "  map: proceso 47150:\n",
      "    numero: 6\n",
      "  map: proceso 47151:\n",
      "    numero: 7\n",
      "  map: proceso 47152:\n",
      "    numero: 6\n",
      "  map: proceso 47153:\n",
      "    numero: 6\n",
      "  map: proceso 47154:\n",
      "    numero: 5\n",
      "\n"
     ]
    }
   ],
   "source": [
    "print_stderr(err)"
   ]
  },
  {
   "cell_type": "markdown",
   "metadata": {},
   "source": [
    "## Combiners\n",
    "\n",
    "los combiners permiten resumir los datos que emite cada proceso map antes de que lleguen al reduce y así reducir el tráfico de red que sale de los procesos map y que entra en los reducers. Los combiners se ejecutan en la misma máquina que el map, alimentándose directamente de la salida de éste. Típicamente un combiner tiene la misma implementación que el `reducer` si es que éste **es asociativo**. Si no, puede tener otra implementación particular. Fíjate en la relación entre el número de procesos map y el número de valores que le entran a cada reduce."
   ]
  },
  {
   "cell_type": "code",
   "execution_count": 552,
   "metadata": {
    "collapsed": false
   },
   "outputs": [
    {
     "name": "stdout",
     "output_type": "stream",
     "text": [
      "Overwriting files/mr-basico-combiners.py\n"
     ]
    }
   ],
   "source": [
    "%%writefile files/mr-basico-combiners.py\n",
    "from mrjob.job import MRJob\n",
    "from sys import stdin\n",
    "import os\n",
    "\n",
    "class Compras(MRJob):\n",
    "\n",
    "    def mapper(self, _, line):\n",
    "        tokens = line.split()\n",
    "        self.increment_counter(\"map: proceso \"+str(os.getpid()), \"numero\", 1)\n",
    "        yield tokens[2], float(tokens[4])\n",
    "        \n",
    "    def combiner(self, key, values):\n",
    "        yield key, sum(values)\n",
    "        \n",
    "    def reducer(self, key, values):\n",
    "        n_values, sum_values = 0,0\n",
    "        for i in values:\n",
    "            n_values += 1\n",
    "            sum_values += i\n",
    "        self.increment_counter(\"longitud valores reduce: proceso \"+str(os.getpid()), key, n_values )\n",
    "        yield key, sum_values\n",
    "        \n",
    "if __name__ == '__main__':\n",
    "    c = Compras()\n",
    "    c.run()"
   ]
  },
  {
   "cell_type": "code",
   "execution_count": 553,
   "metadata": {
    "collapsed": false
   },
   "outputs": [
    {
     "name": "stdout",
     "output_type": "stream",
     "text": [
      "\"BGA\"\t2044.99\n",
      "\"BOG\"\t2008.5699999999997\n",
      "\"MED\"\t2634.31\n"
     ]
    }
   ],
   "source": [
    "%%script --err err python files/mr-basico-combiners.py -r local --jobconf mapred.map.tasks=4 data/compras.txt\n",
    "--"
   ]
  },
  {
   "cell_type": "code",
   "execution_count": 554,
   "metadata": {
    "collapsed": false
   },
   "outputs": [
    {
     "name": "stdout",
     "output_type": "stream",
     "text": [
      "Counters from step 1:\n",
      "  map: proceso 53953:\n",
      "    numero: 8\n",
      "  map: proceso 53956:\n",
      "    numero: 8\n",
      "  map: proceso 53959:\n",
      "    numero: 8\n",
      "  map: proceso 53962:\n",
      "    numero: 6\n",
      "Counters from step 1:\n",
      "  longitud valores reduce: proceso 53966:\n",
      "    BGA: 4\n",
      "    BOG: 4\n",
      "  longitud valores reduce: proceso 53967:\n",
      "    MED: 4\n",
      "  map: proceso 53953:\n",
      "    numero: 8\n",
      "  map: proceso 53956:\n",
      "    numero: 8\n",
      "  map: proceso 53959:\n",
      "    numero: 8\n",
      "  map: proceso 53962:\n",
      "    numero: 6\n",
      "\n"
     ]
    }
   ],
   "source": [
    "print_stderr(err)"
   ]
  },
  {
   "cell_type": "code",
   "execution_count": null,
   "metadata": {
    "collapsed": true
   },
   "outputs": [],
   "source": []
  },
  {
   "cell_type": "code",
   "execution_count": null,
   "metadata": {
    "collapsed": true
   },
   "outputs": [],
   "source": []
  }
 ],
 "metadata": {
  "kernelspec": {
   "display_name": "Python 2",
   "language": "python",
   "name": "python2"
  },
  "language_info": {
   "codemirror_mode": {
    "name": "ipython",
    "version": 2
   },
   "file_extension": ".py",
   "mimetype": "text/x-python",
   "name": "python",
   "nbconvert_exporter": "python",
   "pygments_lexer": "ipython2",
   "version": "2.7.9"
  }
 },
 "nbformat": 4,
 "nbformat_minor": 0
}
