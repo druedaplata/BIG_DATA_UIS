{
 "cells": [
  {
   "cell_type": "markdown",
   "metadata": {},
   "source": [
    "## Problem Set 2A - Map-Reduce I"
   ]
  },
  {
   "cell_type": "code",
   "execution_count": null,
   "metadata": {
    "collapsed": false
   },
   "outputs": [],
   "source": [
    "# imports and formatting ONLY IN NOTEBOOK\n",
    "import book_format\n",
    "book_format.load_style()"
   ]
  },
  {
   "cell_type": "markdown",
   "metadata": {},
   "source": [
    "## <font style=\"color: red\"> Esta práctica contiene 3 ejercicios <!-- ONLY IN NOTEBOOK -->"
   ]
  },
  {
   "cell_type": "markdown",
   "metadata": {},
   "source": [
    "### Ejercicio 1: Estadísticas de Texto"
   ]
  },
  {
   "cell_type": "markdown",
   "metadata": {},
   "source": [
    "Completa la clase `TextStats` implementando un programa map-reduce que, dado un texto de entrada, cuente:\n",
    "\n",
    "- El número de caracteres\n",
    "- El número de líneas\n",
    "- El número de palabras\n",
    "\n",
    "y emita como resultado tres tuplas como en el ejemplo siguiente.\n",
    "\n",
    "\n",
    "_Ejemplo de ejecución_\n",
    "\n",
    "    Ancient influences have helped spawn variant interpretations \n",
    "    of the nature of history which have evolved over the centuries \n",
    "    and continue to change today. The modern study of history is \n",
    "    wide-ranging, and includes the study of specific regions and \n",
    "    the study of certain topical or thematical elements of \n",
    "    historical investigation. Often history is taught as part of \n",
    "    primary and secondary education, and the academic study of \n",
    "    history is a major discipline in University studies\n",
    "    \n",
    "_Resultado_\n",
    "\n",
    "    \"chars\"\t472\n",
    "    \"lines\"\t8\n",
    "    \"words\"\t73\n",
    "\n",
    "_Nota: Dado un string_ `s`_ usa la función_ `s.split()` _para obtener obtener una lista con los conjuntos de caracteres del string que están separados por espacios en blanco. Usa la función_ `len` _para obtener la longitud de un string o de una lista._ "
   ]
  },
  {
   "cell_type": "code",
   "execution_count": null,
   "metadata": {
    "collapsed": false
   },
   "outputs": [],
   "source": [
    "%%writefile files/p_02A_01_TextStats.py\n",
    "from mrjob.job import MRJob\n",
    "\n",
    "class TextStats(MRJob):\n",
    "\n",
    "    def mapper(self, _, line):\n",
    "        # TU CODIGO AQUI\n",
    "        yield \"KEY\", \"VALUE\"\n",
    "\n",
    "    def reducer(self, key, values):\n",
    "        # TU CODIGO AQUI\n",
    "        yield \"KEY\", \"VALUE\"\n",
    "        \n",
    "if __name__ == '__main__':\n",
    "    TextStats.run()"
   ]
  },
  {
   "cell_type": "markdown",
   "metadata": {},
   "source": [
    "verifica que la salida es la esperada y prueba con nuevos valores. <font style=\"color: red\">_Elimina la opción_ `--quiet` _para ver los mensajes de error de tu código si no produce la salida esperada_\n"
   ]
  },
  {
   "cell_type": "code",
   "execution_count": null,
   "metadata": {
    "collapsed": false
   },
   "outputs": [],
   "source": [
    "%%script python files/p_02A_01_TextStats.py --quiet\n",
    "Ancient influences have helped spawn variant interpretations \n",
    "of the nature of history which have evolved over the centuries \n",
    "and continue to change today. The modern study of history is \n",
    "wide-ranging, and includes the study of specific regions and \n",
    "the study of certain topical or thematical elements of \n",
    "historical investigation. Often history is taught as part of \n",
    "primary and secondary education, and the academic study of \n",
    "history is a major discipline in University studies"
   ]
  },
  {
   "cell_type": "markdown",
   "metadata": {},
   "source": [
    "### Ejercicio 2: Conteo de palabras"
   ]
  },
  {
   "cell_type": "markdown",
   "metadata": {},
   "source": [
    "Completa la clase `WordCount` para que dado un texto cuente el número de ocurrencias de cada palabra. No te preocupes por puntuaciones, diferenciación de mayúsculas/minúsculas, etc. simplemente usa el resultado de `line.split()` de cada línea de entrada.\n",
    "\n",
    "con el mismo texto anterior esta sería parte de la salida esperada:\n",
    "\n",
    "    \"Ancient\"\t1\n",
    "    \"University\"\t1\n",
    "    \"a\"\t1\n",
    "    \"academic\"\t1\n",
    "    \"and\"\t5\n",
    "    \"discipline\"\t1\n",
    "    \"education,\"\t1\n",
    "    \"investigation.\"\t1\n",
    "    \"is\"\t3\n",
    "    \"study\"\t4\n",
    "    \"taught\"\t1\n",
    "    \"the\"\t5\n",
    "\n",
    "Fíjate que, al no diferenciar puntuación, etc. 'education,' y 'education' (sin la coma) son consideradas como palabras distintas. ¿dónde harías el preprocesado para eliminar desinencias, puntuaciones, etc.?"
   ]
  },
  {
   "cell_type": "code",
   "execution_count": null,
   "metadata": {
    "collapsed": false
   },
   "outputs": [],
   "source": [
    "%%writefile files/p_02A_02_WordCount.py\n",
    "from mrjob.job import MRJob\n",
    "\n",
    "class WordCount(MRJob):\n",
    "\n",
    "    def mapper(self, _, line):\n",
    "        # TU CODIGO AQUI\n",
    "        yield \"KEY\", \"VALUE\"\n",
    "\n",
    "    def reducer(self, key, values):\n",
    "        # TU CODIGO AQUI\n",
    "        yield \"KEY\", \"VALUE\"\n",
    "        \n",
    "if __name__ == '__main__':\n",
    "    WordCount.run()"
   ]
  },
  {
   "cell_type": "markdown",
   "metadata": {},
   "source": [
    "verifica que la salida es la esperada y prueba con nuevos valores. <font style=\"color: red\">_Elimina la opción_ `--quiet` _para ver los mensajes de error de tu código si no produce la salida esperada_"
   ]
  },
  {
   "cell_type": "code",
   "execution_count": null,
   "metadata": {
    "collapsed": false,
    "scrolled": false
   },
   "outputs": [],
   "source": [
    "%%script python files/p_02A_02_WordCount.py -q\n",
    "Ancient influences have helped spawn variant interpretations \n",
    "of the nature of history which have evolved over the centuries \n",
    "and continue to change today. The modern study of history is \n",
    "wide-ranging, and includes the study of specific regions and \n",
    "the study of certain topical or thematical elements of \n",
    "historical investigation. Often history is taught as part of \n",
    "primary and secondary education, and the academic study of \n",
    "history is a major discipline in University studies"
   ]
  },
  {
   "cell_type": "markdown",
   "metadata": {},
   "source": [
    "### Ejercicio 3: Número medio de palabras por línea"
   ]
  },
  {
   "cell_type": "markdown",
   "metadata": {},
   "source": [
    "Completa la clase `LineAverage` para que como resultado final emita únicamente un par _clave, valor_ con el número medio de palabras por línea en el texto de entrada.\n",
    "\n",
    "Para el mismo texto anterior, la salida debería de ser:\n",
    "\n",
    "    \"avg\"\t9.125"
   ]
  },
  {
   "cell_type": "code",
   "execution_count": null,
   "metadata": {
    "collapsed": false
   },
   "outputs": [],
   "source": [
    "%%writefile files/p_02A_03_LineAverage.py\n",
    "from mrjob.job import MRJob\n",
    "import numpy as np\n",
    "\n",
    "class LineAverage(MRJob):\n",
    "\n",
    "    def mapper(self, _, line):\n",
    "        # TU CODIGO AQUI\n",
    "        yield \"KEY\", \"VALUE\"\n",
    "        \n",
    "    def reducer(self, key, values):\n",
    "        # TU CODIGO AQUI\n",
    "        yield \"KEY\", \"VALUE\"\n",
    "        \n",
    "if __name__ == '__main__':\n",
    "    LineAverage.run()"
   ]
  },
  {
   "cell_type": "markdown",
   "metadata": {},
   "source": [
    "verifica que la salida es la esperada y prueba con nuevos valores. <font style=\"color: red\">_Elimina la opción_ `--quiet` _para ver los mensajes de error de tu código si no produce la salida esperada_"
   ]
  },
  {
   "cell_type": "code",
   "execution_count": null,
   "metadata": {
    "collapsed": false,
    "scrolled": true
   },
   "outputs": [],
   "source": [
    "%%script python files/p_02A_03_LineAverage.py -q\n",
    "Ancient influences have helped spawn variant interpretations \n",
    "of the nature of history which have evolved over the centuries \n",
    "and continue to change today. The modern study of history is \n",
    "wide-ranging, and includes the study of specific regions and \n",
    "the study of certain topical or thematical elements of \n",
    "historical investigation. Often history is taught as part of \n",
    "primary and secondary education, and the academic study of \n",
    "history is a major discipline in University studies"
   ]
  },
  {
   "cell_type": "markdown",
   "metadata": {},
   "source": [
    "---\n",
    "\n",
    "**Obtén la calificación de esta práctica**"
   ]
  },
  {
   "cell_type": "code",
   "execution_count": null,
   "metadata": {
    "collapsed": false
   },
   "outputs": [],
   "source": [
    "%run -i code/p_02A_eval"
   ]
  },
  {
   "cell_type": "code",
   "execution_count": null,
   "metadata": {
    "collapsed": true
   },
   "outputs": [],
   "source": []
  }
 ],
 "metadata": {
  "kernelspec": {
   "display_name": "Python 2",
   "language": "python",
   "name": "python2"
  },
  "language_info": {
   "codemirror_mode": {
    "name": "ipython",
    "version": 2
   },
   "file_extension": ".py",
   "mimetype": "text/x-python",
   "name": "python",
   "nbconvert_exporter": "python",
   "pygments_lexer": "ipython2",
   "version": "2.7.9"
  }
 },
 "nbformat": 4,
 "nbformat_minor": 0
}
