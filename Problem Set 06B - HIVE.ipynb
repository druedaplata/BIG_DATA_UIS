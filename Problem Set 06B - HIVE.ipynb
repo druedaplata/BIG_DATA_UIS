{
 "cells": [
  {
   "cell_type": "markdown",
   "metadata": {},
   "source": [
    "# Problem set 06B: HIVE"
   ]
  },
  {
   "cell_type": "markdown",
   "metadata": {},
   "source": [
    "## Ejercicio 1:\n",
    "\n",
    "### Realiza en este notebook un ejemplo con Particiones HIVE como en las notas\n",
    "- crea un fichero de datos de ejemplo\n",
    "- particiona el fichero por la columna que selecciones\n",
    "- sigue los mismos pasos que en las notas"
   ]
  },
  {
   "cell_type": "markdown",
   "metadata": {},
   "source": [
    "## Ejercicio 2:\n",
    "\n",
    "###Realiza en este notebook un ejemplo de joins (simple, left outer, right outer) como en en la página 36 de [estas notas](http://courses.coreservlets.com/Course-Materials/pdf/hadoop/07-Hive-01.pdf) \n",
    "\n",
    "- crea dos ficheros de datos con alguna columna en comun\n",
    "- define las tablas en Hive\n",
    "- carga los datos en las tablas de hive\n",
    "- realiza los comandos SQL"
   ]
  },
  {
   "cell_type": "code",
   "execution_count": null,
   "metadata": {
    "collapsed": true
   },
   "outputs": [],
   "source": []
  }
 ],
 "metadata": {
  "kernelspec": {
   "display_name": "Python 2",
   "language": "python",
   "name": "python2"
  },
  "language_info": {
   "codemirror_mode": {
    "name": "ipython",
    "version": 2
   },
   "file_extension": ".py",
   "mimetype": "text/x-python",
   "name": "python",
   "nbconvert_exporter": "python",
   "pygments_lexer": "ipython2",
   "version": "2.7.9"
  }
 },
 "nbformat": 4,
 "nbformat_minor": 0
}
