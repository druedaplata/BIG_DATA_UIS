{
 "cells": [
  {
   "cell_type": "markdown",
   "metadata": {},
   "source": [
    "## Problem Set 00 - Practica de Ejemplo"
   ]
  },
  {
   "cell_type": "code",
   "execution_count": null,
   "metadata": {
    "collapsed": false
   },
   "outputs": [],
   "source": [
    "# imports and formatting ONLY IN NOTEBOOK\n",
    "import book_format\n",
    "book_format.load_style()"
   ]
  },
  {
   "cell_type": "markdown",
   "metadata": {},
   "source": [
    "## <font style=\"color: red\"> Esta práctica contiene 1 ejercicio <!-- ONLY IN NOTEBOOK -->"
   ]
  },
  {
   "cell_type": "markdown",
   "metadata": {},
   "source": [
    "### Ejercicio 1: Suma dos matrices"
   ]
  },
  {
   "cell_type": "markdown",
   "metadata": {},
   "source": [
    "Completa la función `suma_matrices` para que, dadas dos arrays numpy cualquiera devuelva la suma elemento a elemento.\n",
    "\n",
    "#### Ejemplo de ejecución\n",
    "\n",
    "    > s = np.array([1,2,3])\n",
    "    > t = np.array([4,5,6])\n",
    "    > suma_matrices(s,t)\n",
    "    \n",
    "      [5 7 9]\n",
    "     \n",
    "_Sugerencia_: completa el código de la siguiente manera:\n",
    "\n",
    "    def suma_matrices(a,b):\n",
    "       ## --- TU CODIGO AQUI ---\n",
    "       result = a + b\n",
    "       return result"
   ]
  },
  {
   "cell_type": "code",
   "execution_count": null,
   "metadata": {
    "collapsed": false
   },
   "outputs": [],
   "source": [
    "import numpy as np\n",
    "\n",
    "def suma_matrices(a,b):\n",
    "    ## --- TU CODIGO AQUI ---\n",
    "    result = None\n",
    "    return result"
   ]
  },
  {
   "cell_type": "code",
   "execution_count": null,
   "metadata": {
    "collapsed": false
   },
   "outputs": [],
   "source": [
    "# -- VERIFICA TU CODIGO --\n",
    "s = np.array([1,2,3])\n",
    "t = np.array([4,5,6])\n",
    "print suma_matrices(s,t)"
   ]
  },
  {
   "cell_type": "markdown",
   "metadata": {},
   "source": [
    "---\n",
    "\n",
    "**Obtén la calificación de esta práctica**"
   ]
  },
  {
   "cell_type": "code",
   "execution_count": null,
   "metadata": {
    "collapsed": false
   },
   "outputs": [],
   "source": [
    "%run -i code/p_00_eval"
   ]
  }
 ],
 "metadata": {
  "kernelspec": {
   "display_name": "Python 2",
   "language": "python",
   "name": "python2"
  },
  "language_info": {
   "codemirror_mode": {
    "name": "ipython",
    "version": 2
   },
   "file_extension": ".py",
   "mimetype": "text/x-python",
   "name": "python",
   "nbconvert_exporter": "python",
   "pygments_lexer": "ipython2",
   "version": "2.7.9"
  }
 },
 "nbformat": 4,
 "nbformat_minor": 0
}
