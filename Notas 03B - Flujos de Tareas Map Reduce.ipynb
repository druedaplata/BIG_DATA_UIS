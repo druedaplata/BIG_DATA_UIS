{
 "cells": [
  {
   "cell_type": "markdown",
   "metadata": {},
   "source": [
    "## Un flujo de tareas para procesar vectores\n",
    "\n",
    "El código siguiente simplemente suma los elementos de los vectores que tiene en la entrada. Fíjate que ahora la entrada está distribuida en varios directorios y ficheros. Además, la salida la ponemos en un directorio concreto. Observa además que estamos usando el formato JSON en todas las etapas."
   ]
  },
  {
   "cell_type": "code",
   "execution_count": 59,
   "metadata": {
    "collapsed": false
   },
   "outputs": [
    {
     "name": "stdout",
     "output_type": "stream",
     "text": [
      "Overwriting files/vectsum.py\n"
     ]
    }
   ],
   "source": [
    "%%writefile files/vectsum.py\n",
    "from mrjob.job import MRJob, JSONProtocol\n",
    "import json\n",
    "\n",
    "class Vectsum(MRJob):\n",
    "    OUTPUT_PROTOCOL   = JSONProtocol\n",
    "    INPUT_PROTOCOL    = JSONProtocol\n",
    "    INTERNAL_PROTOCOL = JSONProtocol\n",
    "\n",
    "    def mapper(self, id, line):\n",
    "        index, val = line\n",
    "        yield id, val\n",
    "        \n",
    "    def reducer(self, key, values):\n",
    "        yield key, sum(values)\n",
    "        \n",
    "if __name__ == '__main__':\n",
    "    Vectsum.run()"
   ]
  },
  {
   "cell_type": "code",
   "execution_count": 60,
   "metadata": {
    "collapsed": false
   },
   "outputs": [
    {
     "name": "stdout",
     "output_type": "stream",
     "text": [
      "\"v1\"\t49\n",
      "\"v2\"\t29\n"
     ]
    }
   ],
   "source": [
    "%%script /opt/anaconda/bin/python files/vectsum.py -q --output-dir data/vectors/R data/vectors/V1 data/vectors/V2\n",
    "--"
   ]
  },
  {
   "cell_type": "markdown",
   "metadata": {},
   "source": [
    "Ahora calculamos el promedio de las sumas de los elementos de todos los vectores. Para ello, usamos la salida de la tarea anterior."
   ]
  },
  {
   "cell_type": "code",
   "execution_count": 67,
   "metadata": {
    "collapsed": false
   },
   "outputs": [
    {
     "name": "stdout",
     "output_type": "stream",
     "text": [
      "Overwriting files/avg.py\n"
     ]
    }
   ],
   "source": [
    "%%writefile files/avg.py\n",
    "from mrjob.job import MRJob, JSONProtocol\n",
    "import json\n",
    "import numpy as np\n",
    "\n",
    "class Avg(MRJob):\n",
    "    OUTPUT_PROTOCOL   = JSONProtocol\n",
    "    INPUT_PROTOCOL    = JSONProtocol\n",
    "    INTERNAL_PROTOCOL = JSONProtocol\n",
    "\n",
    "    def mapper(self, id, val):\n",
    "        yield \"mean\", val\n",
    "        \n",
    "    def reducer(self, key, values):\n",
    "        yield key, np.mean([i for i in values])\n",
    "\n",
    "if __name__ == '__main__':\n",
    "    Avg.run()"
   ]
  },
  {
   "cell_type": "code",
   "execution_count": 68,
   "metadata": {
    "collapsed": false
   },
   "outputs": [
    {
     "name": "stdout",
     "output_type": "stream",
     "text": [
      "\"mean\"\t39.0\n"
     ]
    }
   ],
   "source": [
    "%%script /opt/anaconda/bin/python files/avg.py -q --output-dir data/vectors/mean data/vectors/R \n",
    "--"
   ]
  },
  {
   "cell_type": "markdown",
   "metadata": {},
   "source": [
    "Finalmente, dividimos todos los elementos de los vectores iniciales por la media obtenida. Fíjate en dos detalles:\n",
    "- Cómo pasamos opciones desde la línea de comando a la tarea map reduce\n",
    "- Cómo usamos el comando `awk` de Unix para extraer la información del fichero de salida anterior."
   ]
  },
  {
   "cell_type": "code",
   "execution_count": 63,
   "metadata": {
    "collapsed": false
   },
   "outputs": [
    {
     "name": "stdout",
     "output_type": "stream",
     "text": [
      "Overwriting files/norm.py\n"
     ]
    }
   ],
   "source": [
    "%%writefile files/norm.py\n",
    "from mrjob.job import MRJob, JSONProtocol\n",
    "import json\n",
    "import numpy as np\n",
    "\n",
    "class Norm(MRJob):\n",
    "    OUTPUT_PROTOCOL   = JSONProtocol\n",
    "    INPUT_PROTOCOL    = JSONProtocol\n",
    "    INTERNAL_PROTOCOL = JSONProtocol\n",
    "\n",
    "    def configure_options(self):\n",
    "        super(Norm, self).configure_options()\n",
    "        self.add_file_option('--total')\n",
    "        \n",
    "    def mapper(self, id, line):\n",
    "        index, val = line\n",
    "        yield id, [index, val*1./float(self.options.total)]\n",
    "        \n",
    "    def reducer(self, key, values):\n",
    "        for i in values:\n",
    "            yield key, i\n",
    "        \n",
    "if __name__ == '__main__':\n",
    "    Norm.run()"
   ]
  },
  {
   "cell_type": "code",
   "execution_count": 66,
   "metadata": {
    "collapsed": false
   },
   "outputs": [
    {
     "name": "stdout",
     "output_type": "stream",
     "text": [
      "\"v1\"\t[0, 0.10256410256410256]\r\n",
      "\"v1\"\t[10, 0.05128205128205128]\r\n",
      "\"v1\"\t[2, 0.15384615384615385]\r\n",
      "\"v1\"\t[4, 0.20512820512820512]\r\n",
      "\"v1\"\t[5, 0.23076923076923078]\r\n",
      "\"v1\"\t[6, 0.48717948717948717]\r\n",
      "\"v1\"\t[7, 0.02564102564102564]\r\n",
      "\"v2\"\t[0, 0.10256410256410256]\r\n",
      "\"v2\"\t[10, 0.02564102564102564]\r\n",
      "\"v2\"\t[2, 0.15384615384615385]\r\n",
      "\"v2\"\t[3, 0.3076923076923077]\r\n",
      "\"v2\"\t[4, 0.05128205128205128]\r\n",
      "\"v2\"\t[5, 0.05128205128205128]\r\n",
      "\"v2\"\t[7, 0.05128205128205128]\r\n"
     ]
    }
   ],
   "source": [
    "!/opt/anaconda/bin/python files/norm.py -q --total `awk '{print $2;}' data/vectors/mean/*` data/vectors/V1 data/vectors/V2"
   ]
  },
  {
   "cell_type": "code",
   "execution_count": null,
   "metadata": {
    "collapsed": true
   },
   "outputs": [],
   "source": []
  }
 ],
 "metadata": {
  "kernelspec": {
   "display_name": "Python 2",
   "language": "python",
   "name": "python2"
  },
  "language_info": {
   "codemirror_mode": {
    "name": "ipython",
    "version": 2
   },
   "file_extension": ".py",
   "mimetype": "text/x-python",
   "name": "python",
   "nbconvert_exporter": "python",
   "pygments_lexer": "ipython2",
   "version": "2.7.9"
  }
 },
 "nbformat": 4,
 "nbformat_minor": 0
}
