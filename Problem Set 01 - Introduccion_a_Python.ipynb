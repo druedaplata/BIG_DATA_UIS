{
 "cells": [
  {
   "cell_type": "markdown",
   "metadata": {},
   "source": [
    "## Practica 1"
   ]
  },
  {
   "cell_type": "code",
   "execution_count": 1,
   "metadata": {
    "collapsed": false
   },
   "outputs": [
    {
     "data": {
      "text/html": [
       "<link href='http://fonts.googleapis.com/css?family=Fenix' rel='stylesheet' type='text/css'>\n",
       "<link href='http://fonts.googleapis.com/css?family=Alegreya+Sans:100,300,400,500,700,800,900,100italic,300italic,400italic,500italic,700italic,800italic,900italic' rel='stylesheet' type='text/css'>\n",
       "<link href='http://fonts.googleapis.com/css?family=Source+Code+Pro:300,400' rel='stylesheet' type='text/css'>\n",
       "<style>\n",
       "    @font-face {\n",
       "        font-family: \"Computer Modern\";\n",
       "        src: url('http://mirrors.ctan.org/fonts/cm-unicode/fonts/otf/cmunss.otf');\n",
       "    }\n",
       "    div.cell{\n",
       "        width:800px;\n",
       "        margin-left:16% !important;\n",
       "        margin-right:auto;\n",
       "    }\n",
       "\n",
       "    h1 {\n",
       "        font-family: 'Alegreya Sans', sans-serif;\n",
       "    }\n",
       "    h2 {\n",
       "        font-family: 'Fenix', serif;\n",
       "    }\n",
       "    h3{\n",
       "\t\tfont-family: 'Fenix', serif;\n",
       "        margin-top:12px;\n",
       "        margin-bottom: 3px;\n",
       "       }\n",
       "\th4{\n",
       "\t\tfont-family: 'Fenix', serif;\n",
       "       }\n",
       "    h5 {\n",
       "        font-family: 'Alegreya Sans', sans-serif;\n",
       "    }\t   \n",
       "\n",
       "    div.text_cell_render{\n",
       "        font-family: 'Alegreya Sans',Computer Modern, \"Helvetica Neue\", Arial, Helvetica, Geneva, sans-serif;\n",
       "        line-height: 135%;\n",
       "        font-size: 120%;\n",
       "        width:600px;\n",
       "        margin-left:auto;\n",
       "        margin-right:auto;\n",
       "    }\n",
       "\n",
       "    b { font-size:400%; }\n",
       "\n",
       ".text_cell_render table {\n",
       "    border: solid 1px #DDEEEE;\n",
       "    border-collapse: collapse;\n",
       "    border-spacing: 0;\n",
       "    width: 500px;\n",
       "    font: normal 13px Arial, sans-serif;\n",
       "}\n",
       ".text_cell_render th {\n",
       "    background-color: #DDEFEF;\n",
       "    border: solid 1px #DDEEEE;\n",
       "    color: #336B6B;\n",
       "    padding: 10px;\n",
       "    text-align: left;\n",
       "    text-shadow: 1px 1px 1px #fff;\n",
       "}\n",
       ".text_cell_render tbody td {\n",
       "    border: solid 1px #DDEEEE;\n",
       "    color: #333;\n",
       "    padding: 10px;\n",
       "    text-shadow: 1px 1px 1px #fff;\n",
       "}\n",
       "\n",
       ".text_cell_render pre { \n",
       "    font-family: Monaco, Consolas, \"Andale Mono\", \"DejaVu Sans Mono\", monospace;\n",
       "    font-size: 80%;\n",
       "    line-height: 140%;\n",
       "    white-space: pre;\n",
       "    white-space: pre-wrap;\n",
       "    white-space: -moz-pre-wrap;\n",
       "    white-space: -o-pre-wrap;\n",
       "    background: #faf8f0;\n",
       "} \n",
       "\n",
       ".text_cell_render code {     \n",
       "    font-family: Monaco, Consolas, \"Andale Mono\", \"DejaVu Sans Mono\", monospace;\n",
       "    font-size: 80%;\n",
       "    line-height: 140%;\n",
       "    white-space: pre;\n",
       "    white-space: pre-wrap;\n",
       "    white-space: -moz-pre-wrap;\n",
       "    white-space: -o-pre-wrap;\n",
       "    background: #faf8f0;\n",
       "}\n",
       "\n",
       "\n",
       "    .CodeMirror{\n",
       "            font-family: \"Source Code Pro\";\n",
       "\t\t\tfont-size: 90%;\n",
       "    }\n",
       "/*    .prompt{\n",
       "        display: None;\n",
       "    }*/\n",
       "    .text_cell_render h1 {\n",
       "        font-weight: 200;\n",
       "        font-size: 50pt;\n",
       "\t\tline-height: 100%;\n",
       "        color:#CD2305;\n",
       "        margin-bottom: 0.5em;\n",
       "        margin-top: 0.5em;\n",
       "        display: block;\n",
       "    }\t\n",
       "    .text_cell_render h5 {\n",
       "        font-weight: 300;\n",
       "        font-size: 16pt;\n",
       "        color: #CD2305;\n",
       "        font-style: italic;\n",
       "        margin-bottom: .5em;\n",
       "        margin-top: 0.5em;\n",
       "        display: block;\n",
       "    }\n",
       "    \n",
       "    .warning{\n",
       "        color: rgb( 240, 20, 20 )\n",
       "        }  \n",
       "</style>\n",
       "<script>\n",
       "    MathJax.Hub.Config({\n",
       "                        TeX: {\n",
       "                           extensions: [\"AMSmath.js\"]\n",
       "                           },\n",
       "                tex2jax: {\n",
       "                    inlineMath: [ ['$','$'], [\"\\\\(\",\"\\\\)\"] ],\n",
       "                    displayMath: [ ['$$','$$'], [\"\\\\[\",\"\\\\]\"] ]\n",
       "                },\n",
       "                displayAlign: 'center', // Change this to 'center' to center equations.\n",
       "                \"HTML-CSS\": {\n",
       "                    styles: {'.MathJax_Display': {\"margin\": 4}}\n",
       "                }\n",
       "        });\n",
       "</script>\n"
      ],
      "text/plain": [
       "<IPython.core.display.HTML object>"
      ]
     },
     "execution_count": 1,
     "metadata": {},
     "output_type": "execute_result"
    }
   ],
   "source": [
    "# imports and formatting ONLY IN NOTEBOOK\n",
    "import book_format\n",
    "book_format.load_style()"
   ]
  },
  {
   "cell_type": "markdown",
   "metadata": {},
   "source": [
    "## <font style=\"color: red\"> Esta práctica contiene 4 ejercicios <!-- ONLY IN NOTEBOOK -->"
   ]
  },
  {
   "cell_type": "markdown",
   "metadata": {},
   "source": [
    "### Ejercicio 1: Generación de una matriz"
   ]
  },
  {
   "cell_type": "markdown",
   "metadata": {},
   "source": [
    "Completa la función `single_value_matrix` para que devuelva una matriz de tamaño $n\\_rows \\times n\\_cols$ con todos los elementos igual a $value$. Ejecuta y depura tu código con entradas de prueba, verifica que la salida es la esperada y prueba con nuevos valores.\n",
    "\n",
    "#### Ejemplo de ejecución\n",
    "\n",
    "    > single_value_matrix(n_rows=3, n_cols=4, value=5)\n",
    "    \n",
    "      [[ 5.  5.  5.  5.]\n",
    "       [ 5.  5.  5.  5.]\n",
    "       [ 5.  5.  5.  5.]]\n",
    "     \n",
    "_Sugerencia_: Usa la función `np.ones` de Numpy [[ref](http://docs.scipy.org/doc/numpy/reference/generated/numpy.ones.html)]"
   ]
  },
  {
   "cell_type": "code",
   "execution_count": null,
   "metadata": {
    "collapsed": false
   },
   "outputs": [],
   "source": [
    "import numpy as np\n",
    "\n",
    "def single_value_matrix(n_rows, n_cols, value):\n",
    "    ## --- TU CODIGO AQUI ---\n",
    "    result = None\n",
    "    return result"
   ]
  },
  {
   "cell_type": "code",
   "execution_count": null,
   "metadata": {
    "collapsed": false
   },
   "outputs": [],
   "source": [
    "# -- VERIFICA TU CODIGO --\n",
    "print single_value_matrix(n_rows=3, n_cols=4, value=5)\n",
    "print single_value_matrix(n_rows=4, n_cols=2, value=3.45)"
   ]
  },
  {
   "cell_type": "markdown",
   "metadata": {},
   "source": [
    "### Ejercicio 2: Suma de diferencias cuadradas de matrices"
   ]
  },
  {
   "cell_type": "markdown",
   "metadata": {},
   "source": [
    "Dadas dos matrices de igual tamaño, $A \\in \\mathbb{R}^{m\\times n}$ y $B \\in \\mathbb{R}^{m\\times n}$ la suma de las diferencias cuadradas entre los elementos de la matriz se define por:\n",
    "\n",
    "\n",
    "$$sum\\_squared\\_difference(A,B) = \\sum_{i=0}^m \\sum_{j=0}^n (a_{ij} - b_{ij})^2$$\n",
    "\n",
    "\n",
    "donde $a_{ij}$ es el elemento de la fila $i$ y columna $j$ de la matriz $A$. Completa la función `sum_squared_difference` con esta definición.\n",
    "\n",
    "\n",
    "#### Ejemplo de ejecución\n",
    "\n",
    "    > A = np.array([[1,2],[3,4]])\n",
    "    > B = np.array([[0,3],[4,6]])\n",
    "    > sum_squared_difference(A,B)\n",
    "    \n",
    "      7\n",
    "      \n",
    "_Sugerencia_ Usa la función `np.sum` de Numpy [[ref](http://docs.scipy.org/doc/numpy/reference/generated/numpy.sum.html)]"
   ]
  },
  {
   "cell_type": "code",
   "execution_count": null,
   "metadata": {
    "collapsed": false
   },
   "outputs": [],
   "source": [
    "import numpy as np\n",
    "\n",
    "def sum_squared_difference(A,B):\n",
    "    ## --- TU CODIGO AQUI ---\n",
    "    result = None\n",
    "    return result"
   ]
  },
  {
   "cell_type": "code",
   "execution_count": null,
   "metadata": {
    "collapsed": false
   },
   "outputs": [],
   "source": [
    "# VERIFICA TU CODIGO\n",
    "A = np.array([[1,2],[3,4]])\n",
    "B = np.array([[0,3],[4,6]])\n",
    "print sum_squared_difference(A,B)"
   ]
  },
  {
   "cell_type": "markdown",
   "metadata": {},
   "source": [
    "### Ejercicio 3: Selección de elementos"
   ]
  },
  {
   "cell_type": "markdown",
   "metadata": {},
   "source": [
    "La función `seleccion_mayor` toma dos argumentos: un vector y un escalar. Debe de devolver los elementos del vector que son estrictamente mayores que el escalar "
   ]
  },
  {
   "cell_type": "markdown",
   "metadata": {},
   "source": [
    "#### Ejemplo de ejecución\n",
    "\n",
    "    > v1 = np.array([-4,5,-1,2,3,10,-2])\n",
    "    > print seleccion_mayor(v1, 0)\n",
    "    > print seleccion_mayor(v1,-2)\n",
    "    > print seleccion_mayor(v1,12)    \n",
    "    \n",
    "    [ 5  2  3 10]\n",
    "    [ 5 -1  2  3 10]\n",
    "    []        "
   ]
  },
  {
   "cell_type": "code",
   "execution_count": null,
   "metadata": {
    "collapsed": false
   },
   "outputs": [],
   "source": [
    "import numpy as np\n",
    "\n",
    "def seleccion_mayor (V, umbral):\n",
    "    # TU CODIGO AQUI ----\n",
    "    result = None\n",
    "    return result"
   ]
  },
  {
   "cell_type": "code",
   "execution_count": null,
   "metadata": {
    "collapsed": false
   },
   "outputs": [],
   "source": [
    "v1 = np.array([-4,5,-1,2,3,10,-2])\n",
    "print seleccion_mayor(v1, 0)\n",
    "print seleccion_mayor(v1,-2)\n",
    "print seleccion_mayor(v1,12)"
   ]
  },
  {
   "cell_type": "markdown",
   "metadata": {},
   "source": [
    "### Ejercicio 4: Promedios y desviaciones estándar"
   ]
  },
  {
   "cell_type": "markdown",
   "metadata": {},
   "source": [
    "La función `means_stds` debe de retornar:\n",
    "\n",
    "- una tupla con la lista de promedios y la lista de desviaciones estándar por columna si `eje` es `\"columnas\"`\n",
    "- una tupla con la lista de promedios y la lista de desviaciones estándar por fila si `eje` es `\"filas\"`\n",
    "- la tupla `[None, None]` si la dimensión de de `m` no es 2.\n",
    "- la tupla `[None, None]` si `eje` no es ninguno de los dos valores anteriores\n",
    "\n",
    "El valor por defecto de `eje` debe de ser `\"columnas\"`\n",
    "\n",
    "**Ejemplo de ejecución**\n",
    "    > A = np.array([[1,2,3],[3,4,5]])\n",
    "    > means_stds(A)\n",
    "    \n",
    "    (array([ 2.,  3.,  4.]), array([ 1.,  1.,  1.]))\n",
    "    \n",
    "    > means_stds(A, eje=\"filas\")\n",
    "    (array([ 2.,  4.]), array([ 0.81649658,  0.81649658]))\n",
    "\n",
    "    > V = np.array([1,2,3])\n",
    "    > means_stds(V)\n",
    "    \n",
    "    [None, None]\n",
    "\n",
    "    > M = np.random.random((2,2,2))\n",
    "    > means_stds(M)\n",
    "    \n",
    "    [None, None]\n",
    "\n",
    "<small><small>\n",
    "el operador de comparación es `==`, por ejemplo:\n",
    "\n",
    "    if a==1:\n",
    "       print \"a es 1\"\n",
    "\n",
    "</small></small>"
   ]
  },
  {
   "cell_type": "code",
   "execution_count": null,
   "metadata": {
    "collapsed": false
   },
   "outputs": [],
   "source": [
    "import numpy as np\n",
    "\n",
    "def means_stds(A, eje=\"columnas\"):\n",
    "    # TU CODIGO AQUI\n",
    "    result = None\n",
    "    return result"
   ]
  },
  {
   "cell_type": "code",
   "execution_count": null,
   "metadata": {
    "collapsed": false
   },
   "outputs": [],
   "source": [
    "## VERIFICA TU CODIGO\n",
    "A = np.array([[1,2,3],[3,4,5]])\n",
    "print means_stds(A)\n",
    "print means_stds(A, eje=\"columnas\")\n",
    "print means_stds(A, eje=\"filas\")\n",
    "\n",
    "V = np.array([1,2,3])\n",
    "print means_stds(V)\n",
    "\n",
    "M = np.random.random((2,2,2))\n",
    "print means_stds(M)"
   ]
  },
  {
   "cell_type": "markdown",
   "metadata": {},
   "source": [
    "---\n",
    "\n",
    "**Obtén la calificación de esta práctica**"
   ]
  },
  {
   "cell_type": "code",
   "execution_count": null,
   "metadata": {
    "collapsed": false
   },
   "outputs": [],
   "source": [
    "%run -i solutions/p_01_eval"
   ]
  }
 ],
 "metadata": {
  "kernelspec": {
   "display_name": "Python 2",
   "language": "python",
   "name": "python2"
  },
  "language_info": {
   "codemirror_mode": {
    "name": "ipython",
    "version": 2
   },
   "file_extension": ".py",
   "mimetype": "text/x-python",
   "name": "python",
   "nbconvert_exporter": "python",
   "pygments_lexer": "ipython2",
   "version": "2.7.9"
  }
 },
 "nbformat": 4,
 "nbformat_minor": 0
}
